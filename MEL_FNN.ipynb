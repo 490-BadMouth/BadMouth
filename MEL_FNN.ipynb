{
 "cells": [
  {
   "cell_type": "markdown",
   "id": "6a36deb6",
   "metadata": {
    "tags": []
   },
   "source": [
    "# Load Dependencies and Check GPU Status"
   ]
  },
  {
   "cell_type": "code",
   "execution_count": 2,
   "id": "424d92b0",
   "metadata": {},
   "outputs": [
    {
     "data": {
      "text/plain": [
       "[PhysicalDevice(name='/physical_device:CPU:0', device_type='CPU'),\n",
       " PhysicalDevice(name='/physical_device:GPU:0', device_type='GPU')]"
      ]
     },
     "execution_count": 2,
     "metadata": {},
     "output_type": "execute_result"
    }
   ],
   "source": [
    "import os\n",
    "from matplotlib import pyplot as plt\n",
    "import tensorflow as tf\n",
    "import tensorflow_io as tfio\n",
    "import numpy as np\n",
    "\n",
    "# check if GPU is recognized\n",
    "tf.config.list_physical_devices()"
   ]
  },
  {
   "cell_type": "code",
   "execution_count": 3,
   "id": "566efad2-4a90-4b66-9177-a1f3b209a2f6",
   "metadata": {},
   "outputs": [],
   "source": [
    "# Copyright 2019 Google LLC\n",
    "#\n",
    "# Licensed under the Apache License, Version 2.0 (the \"License\");\n",
    "# you may not use this file except in compliance with the License.\n",
    "# You may obtain a copy of the License at\n",
    "#\n",
    "#     https://www.apache.org/licenses/LICENSE-2.0\n",
    "#\n",
    "# Unless required by applicable law or agreed to in writing, software\n",
    "# distributed under the License is distributed on an \"AS IS\" BASIS,\n",
    "# WITHOUT WARRANTIES OR CONDITIONS OF ANY KIND, either express or implied.\n",
    "# See the License for the specific language governing permissions and\n",
    "# limitations under the License.\n",
    "\n",
    "\"\"\"Defines routines to compute mel spectrogram features from audio waveform.\"\"\"\n",
    "\n",
    "import numpy as np\n",
    "\n",
    "\n",
    "def frame(data, window_length, hop_length):\n",
    "  \"\"\"Convert array into a sequence of successive possibly overlapping frames.\n",
    "\n",
    "  An n-dimensional array of shape (num_samples, ...) is converted into an\n",
    "  (n+1)-D array of shape (num_frames, window_length, ...), where each frame\n",
    "  starts hop_length points after the preceding one.\n",
    "\n",
    "  This is accomplished using stride_tricks, so the original data is not\n",
    "  copied.  However, there is no zero-padding, so any incomplete frames at the\n",
    "  end are not included.\n",
    "\n",
    "  Args:\n",
    "    data: np.array of dimension N >= 1. (SIGNAL)\n",
    "    window_length: Number of samples in each frame. (FRAME LENGTH)\n",
    "    hop_length: Advance (in samples) between each window.   (NUMBER OF SAMPLES BETWEEN EACH FRAME)\n",
    "\n",
    "  Returns:\n",
    "    (N+1)-D np.array with as many rows as there are complete frames that can be\n",
    "    extracted.\n",
    "  \"\"\"\n",
    "  # frame(data, 1000, 16)\n",
    "  # data can be 1 dimensional (mono) or 2 dimensional (stereo)\n",
    "  # if data is 16000 samples long, window_len is 1000, stereo, then the shape would be (16, 1000, 2)\n",
    "  # data.strides output: (num_channels * num_bytes, num_bytes) --> (8, 4)\n",
    "  # data.stides[0]: num_channels in data\n",
    "  # stides: (128, 8)\n",
    "  num_samples = data.shape[0] # get length of signal (num samples)\n",
    "  num_frames = 1 + int(np.floor((num_samples - window_length) / hop_length)) # frame count equation \n",
    "  shape = (num_frames, window_length) + data.shape[1:] # (number of frames, length of each frame), + num of channels(1 or 2)\n",
    "  strides = (data.strides[0] * hop_length,) + data.strides # byte offset to move in each direction \n",
    "  return np.lib.stride_tricks.as_strided(data, shape=shape, strides=strides) # extract frames without copying\n",
    "\n",
    "\n",
    "def periodic_hann(window_length):\n",
    "  \"\"\"Calculate a \"periodic\" Hann window.\n",
    "\n",
    "  The classic Hann window is defined as a raised cosine that starts and\n",
    "  ends on zero, and where every value appears twice, except the middle\n",
    "  point for an odd-length window.  Matlab calls this a \"symmetric\" window\n",
    "  and np.hanning() returns it.  However, for Fourier analysis, this\n",
    "  actually represents just over one cycle of a period N-1 cosine, and\n",
    "  thus is not compactly expressed on a length-N Fourier basis.  Instead,\n",
    "  it's better to use a raised cosine that ends just before the final\n",
    "  zero value - i.e. a complete cycle of a period-N cosine.  Matlab\n",
    "  calls this a \"periodic\" window. This routine calculates it.\n",
    "\n",
    "  Args:\n",
    "    window_length: The number of points in the returned window.\n",
    "\n",
    "  Returns:\n",
    "    A 1D np.array containing the periodic hann window.\n",
    "  \"\"\"\n",
    "  return 0.5 - (0.5 * np.cos(2 * np.pi / window_length *\n",
    "                             np.arange(window_length)))\n",
    "\n",
    "\n",
    "def stft_magnitude(signal, fft_length,\n",
    "                   hop_length=None,\n",
    "                   window_length=None):\n",
    "  \"\"\"Calculate the short-time Fourier transform magnitude.\n",
    "\n",
    "  Args:\n",
    "    signal: 1D np.array of the input time-domain signal.\n",
    "    fft_length: Size of the FFT to apply.\n",
    "    hop_length: Advance (in samples) between each frame passed to FFT.\n",
    "    window_length: Length of each block of samples to pass to FFT.\n",
    "\n",
    "  Returns:\n",
    "    2D np.array where each row contains the magnitudes of the fft_length/2+1\n",
    "    unique values of the FFT for the corresponding frame of input samples.\n",
    "  \"\"\"\n",
    "  frames = frame(signal, window_length, hop_length)\n",
    "  # Apply frame window to each frame. We use a periodic Hann (cosine of period\n",
    "  # window_length) instead of the symmetric Hann of np.hanning (period\n",
    "  # window_length-1).\n",
    "  window = periodic_hann(window_length)\n",
    "  windowed_frames = frames * window\n",
    "  return np.abs(np.fft.rfft(windowed_frames, int(fft_length)))\n",
    "\n",
    "\n",
    "# Mel spectrum constants and functions.\n",
    "_MEL_BREAK_FREQUENCY_HERTZ = 700.0\n",
    "_MEL_HIGH_FREQUENCY_Q = 1127.0\n",
    "\n",
    "\n",
    "def hertz_to_mel(frequencies_hertz):\n",
    "  \"\"\"Convert frequencies to mel scale using HTK formula.\n",
    "\n",
    "  Args:\n",
    "    frequencies_hertz: Scalar or np.array of frequencies in hertz.\n",
    "\n",
    "  Returns:\n",
    "    Object of same size as frequencies_hertz containing corresponding values\n",
    "    on the mel scale.\n",
    "  \"\"\"\n",
    "  return _MEL_HIGH_FREQUENCY_Q * np.log(\n",
    "      1.0 + (frequencies_hertz / _MEL_BREAK_FREQUENCY_HERTZ))\n",
    "\n",
    "\n",
    "def spectrogram_to_mel_matrix(num_mel_bins=20,\n",
    "                              num_spectrogram_bins=129,\n",
    "                              audio_sample_rate=8000,\n",
    "                              lower_edge_hertz=125.0,\n",
    "                              upper_edge_hertz=3800.0):\n",
    "  \"\"\"Return a matrix that can post-multiply spectrogram rows to make mel.\n",
    "\n",
    "  Returns a np.array matrix A that can be used to post-multiply a matrix S of\n",
    "  spectrogram values (STFT magnitudes) arranged as frames x bins to generate a\n",
    "  \"mel spectrogram\" M of frames x num_mel_bins.  M = S A.\n",
    "\n",
    "  The classic HTK algorithm exploits the complementarity of adjacent mel bands\n",
    "  to multiply each FFT bin by only one mel weight, then add it, with positive\n",
    "  and negative signs, to the two adjacent mel bands to which that bin\n",
    "  contributes.  Here, by expressing this operation as a matrix multiply, we go\n",
    "  from num_fft multiplies per frame (plus around 2*num_fft adds) to around\n",
    "  num_fft^2 multiplies and adds.  However, because these are all presumably\n",
    "  accomplished in a single call to np.dot(), it's not clear which approach is\n",
    "  faster in Python.  The matrix multiplication has the attraction of being more\n",
    "  general and flexible, and much easier to read.\n",
    "\n",
    "  Args:\n",
    "    num_mel_bins: How many bands in the resulting mel spectrum.  This is\n",
    "      the number of columns in the output matrix.\n",
    "    num_spectrogram_bins: How many bins there are in the source spectrogram\n",
    "      data, which is understood to be fft_size/2 + 1, i.e. the spectrogram\n",
    "      only contains the nonredundant FFT bins.\n",
    "    audio_sample_rate: Samples per second of the audio at the input to the\n",
    "      spectrogram. We need this to figure out the actual frequencies for\n",
    "      each spectrogram bin, which dictates how they are mapped into mel.\n",
    "    lower_edge_hertz: Lower bound on the frequencies to be included in the mel\n",
    "      spectrum.  This corresponds to the lower edge of the lowest triangular\n",
    "      band.\n",
    "    upper_edge_hertz: The desired top edge of the highest frequency band.\n",
    "\n",
    "  Returns:\n",
    "    An np.array with shape (num_spectrogram_bins, num_mel_bins).\n",
    "\n",
    "  Raises:\n",
    "    ValueError: if frequency edges are incorrectly ordered or out of range.\n",
    "  \"\"\"\n",
    "  nyquist_hertz = audio_sample_rate / 2.\n",
    "  if lower_edge_hertz < 0.0:\n",
    "    raise ValueError(\"lower_edge_hertz %.1f must be >= 0\" % lower_edge_hertz)\n",
    "  if lower_edge_hertz >= upper_edge_hertz:\n",
    "    raise ValueError(\"lower_edge_hertz %.1f >= upper_edge_hertz %.1f\" %\n",
    "                     (lower_edge_hertz, upper_edge_hertz))\n",
    "  if upper_edge_hertz > nyquist_hertz:\n",
    "    raise ValueError(\"upper_edge_hertz %.1f is greater than Nyquist %.1f\" %\n",
    "                     (upper_edge_hertz, nyquist_hertz))\n",
    "  spectrogram_bins_hertz = np.linspace(0.0, nyquist_hertz, num_spectrogram_bins)\n",
    "  spectrogram_bins_mel = hertz_to_mel(spectrogram_bins_hertz)\n",
    "  # The i'th mel band (starting from i=1) has center frequency\n",
    "  # band_edges_mel[i], lower edge band_edges_mel[i-1], and higher edge\n",
    "  # band_edges_mel[i+1].  Thus, we need num_mel_bins + 2 values in\n",
    "  # the band_edges_mel arrays.\n",
    "  band_edges_mel = np.linspace(hertz_to_mel(lower_edge_hertz),\n",
    "                               hertz_to_mel(upper_edge_hertz), num_mel_bins + 2)\n",
    "  # Matrix to post-multiply feature arrays whose rows are num_spectrogram_bins\n",
    "  # of spectrogram values.\n",
    "  mel_weights_matrix = np.empty((num_spectrogram_bins, num_mel_bins))\n",
    "  for i in range(num_mel_bins):\n",
    "    lower_edge_mel, center_mel, upper_edge_mel = band_edges_mel[i:i + 3]\n",
    "    # Calculate lower and upper slopes for every spectrogram bin.\n",
    "    # Line segments are linear in the *mel* domain, not hertz.\n",
    "    lower_slope = ((spectrogram_bins_mel - lower_edge_mel) /\n",
    "                   (center_mel - lower_edge_mel))\n",
    "    upper_slope = ((upper_edge_mel - spectrogram_bins_mel) /\n",
    "                   (upper_edge_mel - center_mel))\n",
    "    # .. then intersect them with each other and zero.\n",
    "    mel_weights_matrix[:, i] = np.maximum(0.0, np.minimum(lower_slope,\n",
    "                                                          upper_slope))\n",
    "  # HTK excludes the spectrogram DC bin; make sure it always gets a zero\n",
    "  # coefficient.\n",
    "  mel_weights_matrix[0, :] = 0.0\n",
    "  return mel_weights_matrix\n",
    "\n",
    "\n",
    "def log_mel_spectrogram(data,\n",
    "                        audio_sample_rate=8000,\n",
    "                        log_offset=0.0,\n",
    "                        window_length_secs=0.025,\n",
    "                        hop_length_secs=0.010,\n",
    "                        **kwargs):\n",
    "  \"\"\"Convert waveform to a log magnitude mel-frequency spectrogram.\n",
    "\n",
    "  Args:\n",
    "    data: 1D np.array of waveform data.\n",
    "    audio_sample_rate: The sampling rate of data.\n",
    "    log_offset: Add this to values when taking log to avoid -Infs.\n",
    "    window_length_secs: Duration of each window to analyze.\n",
    "    hop_length_secs: Advance between successive analysis windows.\n",
    "    **kwargs: Additional arguments to pass to spectrogram_to_mel_matrix.\n",
    "\n",
    "  Returns:\n",
    "    2D np.array of (num_frames, num_mel_bins) consisting of log mel filterbank\n",
    "    magnitudes for successive frames.\n",
    "  \"\"\"\n",
    "  window_length_samples = int(round(audio_sample_rate * window_length_secs))\n",
    "  hop_length_samples = int(round(audio_sample_rate * hop_length_secs))\n",
    "  fft_length = 2 ** int(np.ceil(np.log(window_length_samples) / np.log(2.0)))\n",
    "  spectrogram = stft_magnitude(\n",
    "      data,\n",
    "      fft_length=fft_length,\n",
    "      hop_length=hop_length_samples,\n",
    "      window_length=window_length_samples)\n",
    "  mel_spectrogram = np.dot(spectrogram, spectrogram_to_mel_matrix(\n",
    "      num_spectrogram_bins=spectrogram.shape[1],\n",
    "      audio_sample_rate=audio_sample_rate, **kwargs))\n",
    "  return np.log(mel_spectrogram + log_offset)\n"
   ]
  },
  {
   "cell_type": "markdown",
   "id": "d9367290",
   "metadata": {},
   "source": [
    "# Create TensorFlow Dataset"
   ]
  },
  {
   "cell_type": "code",
   "execution_count": 4,
   "id": "7e3d4025",
   "metadata": {},
   "outputs": [
    {
     "name": "stdout",
     "output_type": "stream",
     "text": [
      "Size of not_bad dataset: 1850\n",
      "Size of fuck dataset   : 1438\n",
      "Size of shit dataset   : 1236\n"
     ]
    }
   ],
   "source": [
    "# define paths to positive and negative data\n",
    "NOT_BAD = os.path.join(\"C:/Users/jreye/ML_DATA/NotBadWords/NotBad_comp\") \n",
    "FUCK = os.path.join(\"C:/Users/jreye/ML_DATA/BadWords/fuck_comp_all_44k\") \n",
    "SHIT = os.path.join(\"C:/Users/jreye/ML_DATA/BadWords/shit_comp_all\") \n",
    "\n",
    "# Create multi-classification datasets\n",
    "not_bad = tf.data.Dataset.list_files(NOT_BAD+'\\*.wav').map(lambda x: (x, tf.constant([1, 0, 0], dtype=tf.float32))) \n",
    "fuck = tf.data.Dataset.list_files(FUCK+'\\*.wav').map(lambda x: (x, tf.constant([0, 1, 0], dtype=tf.float32))) \n",
    "shit = tf.data.Dataset.list_files(SHIT+'\\*.wav').map(lambda x: (x, tf.constant([0, 0, 1], dtype=tf.float32))) \n",
    "\n",
    "data = not_bad.concatenate(fuck)\n",
    "data = data.concatenate(shit)\n",
    "\n",
    "print(\"Size of not_bad dataset: \" + repr(len(not_bad)))\n",
    "print(\"Size of fuck dataset   : \" + repr(len(fuck)))\n",
    "print(\"Size of shit dataset   : \" + repr(len(shit)))\n",
    "\n",
    "bufferSize = len(not_bad) + len(fuck) + len(shit)\n",
    "\n",
    "# for debugging\n",
    "#list(fuck.as_numpy_iterator())"
   ]
  },
  {
   "cell_type": "markdown",
   "id": "163c0f13",
   "metadata": {},
   "source": [
    "# Build Preprocessing Function to Convert to Spectrogram"
   ]
  },
  {
   "cell_type": "code",
   "execution_count": 8,
   "id": "579680e7-f175-4aa1-a25c-69074e925dfd",
   "metadata": {},
   "outputs": [],
   "source": [
    "def load_wav(file_path):\n",
    "    file_contents = tf.io.read_file(file_path)\n",
    "    audio, sample_rate = tf.audio.decode_wav(file_contents, desired_channels=1)\n",
    "    \n",
    "    # Convert to mono if the audio has more than one channel\n",
    "    if audio.shape[-1] > 1:\n",
    "        audio = tf.reduce_mean(audio, axis=-1, keepdims=True)\n",
    "        \n",
    "    audio = tf.squeeze(audio, axis=-1) # remove trailing axis\n",
    "    sample_rate = tf.cast(sample_rate, dtype=tf.int64)\n",
    "    # Goes from 44100Hz to 16000hz - amplitude of the audio signal\n",
    "    audio = tfio.audio.resample(audio, rate_in=sample_rate, rate_out=16000)\n",
    "    return audio\n",
    "\n",
    "\n",
    "\n",
    "\n",
    "\n",
    "\n",
    "\n",
    "\n",
    "def pad_spectrogram(spectrogram, target_shape):\n",
    "    # Calculate the required padding\n",
    "    padding = [[0, target_shape[0] - spectrogram.shape[0]], [0, 0]]\n",
    "    \n",
    "    # Apply the padding\n",
    "    padded_spectrogram = tf.pad(spectrogram, padding, mode='CONSTANT', constant_values=0)\n",
    "    \n",
    "    return padded_spectrogram"
   ]
  },
  {
   "cell_type": "code",
   "execution_count": 13,
   "id": "aaee5299",
   "metadata": {},
   "outputs": [],
   "source": [
    "def preprocess(file_path, label):\n",
    "    # WORKING CODE\n",
    "    audio = load_wav(file_path)\n",
    "\n",
    "    # Parameters for the mel spectrogram\n",
    "    sample_rate = 16000\n",
    "    num_mel_bins = 32\n",
    "    lower_edge_hertz = 60.0\n",
    "    upper_edge_hertz = 3800.0\n",
    "    window_length_secs = 0.025\n",
    "    hop_length_secs = 0.010\n",
    "    log_offset = 0.001\n",
    "\n",
    "    # Convert the audio tensor to a NumPy array\n",
    "    audio_np = audio.numpy()\n",
    "\n",
    "    # Compute the log mel spectrogram\n",
    "    test_spectrogram = 30 * log_mel_spectrogram(\n",
    "        audio_np,\n",
    "        audio_sample_rate=sample_rate,\n",
    "        log_offset=log_offset,\n",
    "        window_length_secs=window_length_secs,\n",
    "        hop_length_secs=hop_length_secs,\n",
    "        num_mel_bins=num_mel_bins,\n",
    "        lower_edge_hertz=lower_edge_hertz,\n",
    "        upper_edge_hertz=upper_edge_hertz) - np.log(1e-3)\n",
    "    \n",
    "    test_spectrogram = tf.cast(test_spectrogram, tf.float32)  # Cast to float32\n",
    "    \n",
    "    test_spectrogram = np.clip(test_spectrogram, 0, 255).astype(np.uint8)\n",
    "\n",
    "    # Normalize the spectrogram per frequency bin (column-wise)\n",
    "    test_spectrogram = test_spectrogram.astype(np.float32)  # Convert back to float32 for calculations\n",
    "    test_spectrogram -= np.mean(test_spectrogram, axis=0)\n",
    "    epsilon = 1e-8  # Small constant to avoid division by zero\n",
    "    test_spectrogram /= (np.std(test_spectrogram, axis=0) + epsilon)\n",
    "    test_spectrogram += 1\n",
    "    test_spectrogram *= 127.5\n",
    "\n",
    "    # Clip the spectrogram back to the uint8 range\n",
    "    test_spectrogram = np.clip(test_spectrogram, 0, 255).astype(np.uint8)\n",
    "    target_shape = (198, 32)\n",
    "\n",
    "    # Pad the spectrogram\n",
    "    padded_spectrogram = pad_spectrogram(test_spectrogram, target_shape)\n",
    "\n",
    "    return padded_spectrogram, label\n",
    "\n",
    "def preprocess0(file_path, label):\n",
    "    # WORKING CODE\n",
    "    audio = load_wav(file_path)\n",
    "\n",
    "    # Parameters for the mel spectrogram\n",
    "    sample_rate = 16000\n",
    "    num_mel_bins = 32\n",
    "    lower_edge_hertz = 60.0\n",
    "    upper_edge_hertz = 3800.0\n",
    "    window_length_secs = 0.025\n",
    "    hop_length_secs = 0.010\n",
    "    log_offset = 0.001\n",
    "\n",
    "    # Convert the audio tensor to a NumPy array\n",
    "    audio_np = audio.numpy()\n",
    "\n",
    "    # Compute the log mel spectrogram\n",
    "    test_spectrogram = 30 * log_mel_spectrogram(\n",
    "        audio_np,\n",
    "        audio_sample_rate=sample_rate,\n",
    "        log_offset=log_offset,\n",
    "        window_length_secs=window_length_secs,\n",
    "        hop_length_secs=hop_length_secs,\n",
    "        num_mel_bins=num_mel_bins,\n",
    "        lower_edge_hertz=lower_edge_hertz,\n",
    "        upper_edge_hertz=upper_edge_hertz) - np.log(1e-3)\n",
    "    \n",
    "    test_spectrogram = tf.cast(test_spectrogram, tf.float32)  # Cast to float32\n",
    "    \n",
    "    target_shape = (198, 32)\n",
    "\n",
    "    # Pad the spectrogram\n",
    "    padded_spectrogram = pad_spectrogram(test_spectrogram, target_shape)\n",
    "\n",
    "    return padded_spectrogram, label\n"
   ]
  },
  {
   "cell_type": "code",
   "execution_count": 14,
   "id": "e33570be",
   "metadata": {},
   "outputs": [
    {
     "name": "stdout",
     "output_type": "stream",
     "text": [
      "Selected file: C:\\Users\\jreye\\ML_DATA\\BadWords\\fuck_comp_all_44k\\whiteNoise_0_2_Recording #244.wav\n",
      "(198, 32)\n",
      "[0. 1. 0.]\n"
     ]
    },
    {
     "data": {
      "image/png": "[encoded data removed]",
      "text/plain": [
       "<Figure size 3000x2000 with 1 Axes>"
      ]
     },
     "metadata": {},
     "output_type": "display_data"
    },
    {
     "name": "stdout",
     "output_type": "stream",
     "text": [
      "Selected file: C:\\Users\\jreye\\ML_DATA\\BadWords\\fuck_comp_all_44k\\whiteNoise_0_2_Recording #244.wav\n",
      "(198, 32)\n",
      "[0. 1. 0.]\n"
     ]
    },
    {
     "data": {
      "image/png": "[encoded data removed]",
      "text/plain": [
       "<Figure size 3000x2000 with 1 Axes>"
      ]
     },
     "metadata": {},
     "output_type": "display_data"
    }
   ],
   "source": [
    "filepath, label = data.shuffle(buffer_size=10000).as_numpy_iterator().next()\n",
    "padded_spectrogram, label = preprocess(filepath, label)\n",
    "\n",
    "# Convert the filepath tensor to a string\n",
    "filename_str = filepath.decode('utf-8')\n",
    "\n",
    "# Print the file name\n",
    "print(f\"Selected file: {filename_str}\")\n",
    "\n",
    "print(padded_spectrogram.shape)\n",
    "print(label)\n",
    "plt.figure(figsize=(30,20))\n",
    "plt.imshow(tf.transpose(padded_spectrogram))\n",
    "plt.show() \n",
    "\n",
    "padded_spectrogram, label = preprocess0(filepath, label)\n",
    "\n",
    "# Convert the filepath tensor to a string\n",
    "filename_str = filepath.decode('utf-8')\n",
    "\n",
    "# Print the file name\n",
    "print(f\"Selected file: {filename_str}\")\n",
    "\n",
    "print(padded_spectrogram.shape)\n",
    "print(label)\n",
    "plt.figure(figsize=(30,20))\n",
    "plt.imshow(tf.transpose(padded_spectrogram))\n",
    "plt.show() "
   ]
  },
  {
   "cell_type": "markdown",
   "id": "88ae631b",
   "metadata": {},
   "source": [
    "# Create Training and Testing Partitions"
   ]
  },
  {
   "cell_type": "code",
   "execution_count": 15,
   "id": "98148071",
   "metadata": {},
   "outputs": [
    {
     "data": {
      "text/plain": [
       "4524"
      ]
     },
     "execution_count": 15,
     "metadata": {},
     "output_type": "execute_result"
    }
   ],
   "source": [
    "len(data)"
   ]
  },
  {
   "cell_type": "code",
   "execution_count": 16,
   "id": "2ba262a8",
   "metadata": {},
   "outputs": [],
   "source": [
    "def preprocess_py_function(file_path, label):\n",
    "    file_path, label = tf.py_function(preprocess, [file_path, label], [tf.uint8, tf.float32])\n",
    "    file_path.set_shape((198, 32))\n",
    "    file_path = tf.cast(file_path, tf.uint8)  # Cast to float32\n",
    "    label.set_shape((3,))  # Set shape to (3,)\n",
    "\n",
    "    spectrogram_expanded = file_path  # Remove the extra dimension\n",
    "    label_expanded = label  # Remove the extra dimension\n",
    "\n",
    "    return spectrogram_expanded, label_expanded\n",
    "\n",
    "\n",
    "\n",
    "\n",
    "data = data.map(preprocess_py_function)\n",
    "data = data.cache()\n",
    "data = data.shuffle(buffer_size=bufferSize - 12)\n",
    "data = data.batch(16)\n",
    "data = data.prefetch(16)"
   ]
  },
  {
   "cell_type": "code",
   "execution_count": 17,
   "id": "4a13ace7",
   "metadata": {},
   "outputs": [
    {
     "data": {
      "text/plain": [
       "283"
      ]
     },
     "execution_count": 17,
     "metadata": {},
     "output_type": "execute_result"
    }
   ],
   "source": [
    "len(data)"
   ]
  },
  {
   "cell_type": "code",
   "execution_count": 18,
   "id": "b56b9764-979f-44f6-ba56-8b18740cb32e",
   "metadata": {},
   "outputs": [
    {
     "name": "stdout",
     "output_type": "stream",
     "text": [
      "198\n"
     ]
    }
   ],
   "source": [
    "train_size = round(len(data) * 0.7)\n",
    "print(train_size)"
   ]
  },
  {
   "cell_type": "code",
   "execution_count": 19,
   "id": "72ef358f-6183-465f-b4d4-efcd5942959e",
   "metadata": {},
   "outputs": [
    {
     "name": "stdout",
     "output_type": "stream",
     "text": [
      "85\n"
     ]
    }
   ],
   "source": [
    "test_size = round(len(data) - len(data)*.7)\n",
    "print(test_size)"
   ]
  },
  {
   "cell_type": "code",
   "execution_count": 20,
   "id": "00e386cd",
   "metadata": {},
   "outputs": [],
   "source": [
    "# split into training and testing partitions\n",
    "train = data.take(train_size) # 70 % goes to train set\n",
    "test = data.skip(train_size).take(test_size) # 30 % goes to test set"
   ]
  },
  {
   "cell_type": "code",
   "execution_count": 21,
   "id": "7a4803a2-fac6-4918-bba7-3c3fa2949542",
   "metadata": {},
   "outputs": [],
   "source": [
    "# test one batch\n",
    "samples, labels = train.as_numpy_iterator().next()"
   ]
  },
  {
   "cell_type": "code",
   "execution_count": 22,
   "id": "9cb25426",
   "metadata": {},
   "outputs": [
    {
     "data": {
      "text/plain": [
       "(16, 198, 32)"
      ]
     },
     "execution_count": 22,
     "metadata": {},
     "output_type": "execute_result"
    }
   ],
   "source": [
    "samples.shape"
   ]
  },
  {
   "cell_type": "code",
   "execution_count": 23,
   "id": "fa8d17bd-70a0-4204-a7c8-f21bd00de0f2",
   "metadata": {},
   "outputs": [
    {
     "data": {
      "text/plain": [
       "array([[1., 0., 0.],\n",
       "       [1., 0., 0.],\n",
       "       [0., 1., 0.],\n",
       "       [1., 0., 0.],\n",
       "       [0., 1., 0.],\n",
       "       [1., 0., 0.],\n",
       "       [0., 1., 0.],\n",
       "       [0., 1., 0.],\n",
       "       [0., 0., 1.],\n",
       "       [1., 0., 0.],\n",
       "       [1., 0., 0.],\n",
       "       [1., 0., 0.],\n",
       "       [1., 0., 0.],\n",
       "       [1., 0., 0.],\n",
       "       [0., 1., 0.],\n",
       "       [1., 0., 0.]], dtype=float32)"
      ]
     },
     "execution_count": 23,
     "metadata": {},
     "output_type": "execute_result"
    }
   ],
   "source": [
    "labels"
   ]
  },
  {
   "cell_type": "code",
   "execution_count": 24,
   "id": "029a5e62-e484-4396-b62f-9aedc3bc1bf9",
   "metadata": {},
   "outputs": [],
   "source": [
    "def extract_data_labels(dataset):\n",
    "    data_list, labels_list = [], []\n",
    "    for data, labels in dataset.as_numpy_iterator():\n",
    "        data_list.append(data)\n",
    "        labels_list.append(labels)\n",
    "    data = np.concatenate(data_list, axis=0)\n",
    "    labels = np.concatenate(labels_list, axis=0)\n",
    "    return data, labels\n",
    "\n",
    "X_train, y_train = extract_data_labels(train)\n",
    "X_test, y_test = extract_data_labels(test)\n",
    "\n"
   ]
  },
  {
   "cell_type": "code",
   "execution_count": 25,
   "id": "b7cd134e-fb92-43e0-8524-5b13da983c10",
   "metadata": {},
   "outputs": [
    {
     "data": {
      "text/plain": [
       "(3168, 198, 32)"
      ]
     },
     "execution_count": 25,
     "metadata": {},
     "output_type": "execute_result"
    }
   ],
   "source": [
    "X_train.shape"
   ]
  },
  {
   "cell_type": "code",
   "execution_count": 26,
   "id": "01339db7-6933-4272-abe5-56b17f1afe50",
   "metadata": {},
   "outputs": [
    {
     "data": {
      "text/plain": [
       "(3168, 3)"
      ]
     },
     "execution_count": 26,
     "metadata": {},
     "output_type": "execute_result"
    }
   ],
   "source": [
    "y_train.shape"
   ]
  },
  {
   "cell_type": "markdown",
   "id": "f0b6c760",
   "metadata": {},
   "source": [
    "# Train Various Configurations of Model Using Keras-Tuner"
   ]
  },
  {
   "cell_type": "code",
   "execution_count": 28,
   "id": "8a359962-7628-4b8e-a544-585aa5a2b5f2",
   "metadata": {},
   "outputs": [
    {
     "name": "stdout",
     "output_type": "stream",
     "text": [
      "Trial 25 Complete [00h 00m 28s]\n",
      "val_categorical_accuracy: 0.9680432677268982\n",
      "\n",
      "Best val_categorical_accuracy So Far: 0.9793510437011719\n",
      "Total elapsed time: 00h 11m 58s\n",
      "INFO:tensorflow:Oracle triggered exit\n",
      "Model: \"sequential_1\"\n",
      "_________________________________________________________________\n",
      " Layer (type)                Output Shape              Param #   \n",
      "=================================================================\n",
      " flatten_1 (Flatten)         (None, 6336)              0         \n",
      "                                                                 \n",
      " dense_2 (Dense)             (None, 256)               1622272   \n",
      "                                                                 \n",
      " dropout_1 (Dropout)         (None, 256)               0         \n",
      "                                                                 \n",
      " dense_3 (Dense)             (None, 3)                 771       \n",
      "                                                                 \n",
      "=================================================================\n",
      "Total params: 1,623,043\n",
      "Trainable params: 1,623,043\n",
      "Non-trainable params: 0\n",
      "_________________________________________________________________\n"
     ]
    }
   ],
   "source": [
    "import tensorflow as tf\n",
    "from tensorflow.keras.models import Sequential\n",
    "from tensorflow.keras.layers import Dense, Flatten, Dropout\n",
    "from tensorflow.keras.optimizers import Adam\n",
    "from tensorflow.keras.metrics import Precision, Recall, CategoricalAccuracy\n",
    "from kerastuner import RandomSearch\n",
    "\n",
    "def create_model(hp):\n",
    "    model = Sequential()\n",
    "    model.add(Flatten(input_shape=(198, 32)))\n",
    "    \n",
    "    # Variable number of Dense layers\n",
    "    for i in range(hp.Int('num_layers', 1, 2)):  # Reduced the range to around the best value\n",
    "        model.add(Dense(units=hp.Int('units_' + str(i), min_value=128, max_value=288, step=32), activation='relu'))  # Adjusted the range around the best value\n",
    "        model.add(Dropout(rate=hp.Float('dropout_' + str(i), min_value=0.05, max_value=0.15, step=0.05)))  # Adjusted the range around the best value\n",
    "    \n",
    "    model.add(Dense(3, activation='softmax'))\n",
    "\n",
    "    model.compile(\n",
    "        optimizer=Adam(learning_rate=hp.Choice('learning_rate', values=[5e-5])),  # Adjusted the values around the best value\n",
    "        loss='categorical_crossentropy',\n",
    "        metrics=[Precision(name='precision'), Recall(name='recall'), CategoricalAccuracy(name='categorical_accuracy')]\n",
    "    )\n",
    "\n",
    "    return model\n",
    "\n",
    "from kerastuner.tuners import BayesianOptimization\n",
    "\n",
    "tuner = BayesianOptimization(\n",
    "    create_model,\n",
    "    objective='val_categorical_accuracy',\n",
    "    max_trials=25,  # Increase the number of trials here\n",
    "    executions_per_trial=3,\n",
    "    directory='keras_tuner_output',\n",
    "    project_name='BadMouth_FNN_10_new3'\n",
    ")\n",
    "\n",
    "tuner.search_space_summary()\n",
    "\n",
    "# Replace X_train, y_train, X_val, and y_val with your own data\n",
    "tuner.search(X_train, y_train, epochs=10, validation_data=(X_test, y_test), batch_size=16)\n",
    "\n",
    "best_hyperparameters = tuner.get_best_hyperparameters()[0]\n",
    "\n",
    "optimized_model = create_model(best_hyperparameters)\n",
    "optimized_model.summary()\n"
   ]
  },
  {
   "cell_type": "code",
   "execution_count": 29,
   "id": "1421c242-4d94-46d1-897a-3b370621e195",
   "metadata": {},
   "outputs": [
    {
     "name": "stdout",
     "output_type": "stream",
     "text": [
      "Best hyperparameters:\n",
      "num_layers: 1\n",
      "units_0: 256\n",
      "dropout_0: 0.05\n",
      "learning_rate: 5e-05\n",
      "units_1: 192\n",
      "dropout_1: 0.05\n",
      "Input shape of the optimized model: (None, 198, 32)\n"
     ]
    }
   ],
   "source": [
    "# Print the best hyperparameters\n",
    "print(\"Best hyperparameters:\")\n",
    "for hp, value in best_hyperparameters.get_config()['values'].items():\n",
    "    print(f\"{hp}: {value}\")\n",
    "\n",
    "# Print the input shape of the optimized model\n",
    "input_shape = optimized_model.layers[0].input_shape\n",
    "print(\"Input shape of the optimized model:\", input_shape)\n"
   ]
  },
  {
   "cell_type": "code",
   "execution_count": 30,
   "id": "41a769f6-81ae-4b60-b278-1e047e2b3bed",
   "metadata": {},
   "outputs": [
    {
     "name": "stdout",
     "output_type": "stream",
     "text": [
      "Epoch 1/10\n",
      "198/198 [==============================] - 1s 5ms/step - loss: 14.1453 - precision: 0.7696 - recall: 0.7696 - categorical_accuracy: 0.7696 - val_loss: 3.5718 - val_precision: 0.9086 - val_recall: 0.9086 - val_categorical_accuracy: 0.9086\n",
      "Epoch 2/10\n",
      "198/198 [==============================] - 1s 4ms/step - loss: 4.2530 - precision: 0.9028 - recall: 0.9028 - categorical_accuracy: 0.9028 - val_loss: 1.6703 - val_precision: 0.9417 - val_recall: 0.9417 - val_categorical_accuracy: 0.9417\n",
      "Epoch 3/10\n",
      "198/198 [==============================] - 1s 4ms/step - loss: 2.7862 - precision: 0.9085 - recall: 0.9085 - categorical_accuracy: 0.9085 - val_loss: 1.7701 - val_precision: 0.9417 - val_recall: 0.9417 - val_categorical_accuracy: 0.9417\n",
      "Epoch 4/10\n",
      "198/198 [==============================] - 1s 4ms/step - loss: 1.3468 - precision: 0.9397 - recall: 0.9397 - categorical_accuracy: 0.9397 - val_loss: 1.0780 - val_precision: 0.9535 - val_recall: 0.9535 - val_categorical_accuracy: 0.9535\n",
      "Epoch 5/10\n",
      "198/198 [==============================] - 1s 4ms/step - loss: 1.0961 - precision: 0.9498 - recall: 0.9498 - categorical_accuracy: 0.9498 - val_loss: 0.8183 - val_precision: 0.9535 - val_recall: 0.9535 - val_categorical_accuracy: 0.9535\n",
      "Epoch 6/10\n",
      "198/198 [==============================] - 1s 4ms/step - loss: 0.9148 - precision: 0.9536 - recall: 0.9536 - categorical_accuracy: 0.9536 - val_loss: 1.5165 - val_precision: 0.9336 - val_recall: 0.9329 - val_categorical_accuracy: 0.9329\n",
      "Epoch 7/10\n",
      "198/198 [==============================] - 1s 4ms/step - loss: 1.0063 - precision: 0.9533 - recall: 0.9533 - categorical_accuracy: 0.9533 - val_loss: 0.5531 - val_precision: 0.9742 - val_recall: 0.9742 - val_categorical_accuracy: 0.9742\n",
      "Epoch 8/10\n",
      "198/198 [==============================] - 1s 4ms/step - loss: 0.7327 - precision: 0.9580 - recall: 0.9580 - categorical_accuracy: 0.9580 - val_loss: 0.8273 - val_precision: 0.9683 - val_recall: 0.9683 - val_categorical_accuracy: 0.9683\n",
      "Epoch 9/10\n",
      "198/198 [==============================] - 1s 4ms/step - loss: 0.7019 - precision: 0.9640 - recall: 0.9640 - categorical_accuracy: 0.9640 - val_loss: 0.5140 - val_precision: 0.9779 - val_recall: 0.9779 - val_categorical_accuracy: 0.9779\n",
      "Epoch 10/10\n",
      "198/198 [==============================] - 1s 4ms/step - loss: 0.5655 - precision: 0.9672 - recall: 0.9672 - categorical_accuracy: 0.9672 - val_loss: 0.4962 - val_precision: 0.9720 - val_recall: 0.9720 - val_categorical_accuracy: 0.9720\n"
     ]
    }
   ],
   "source": [
    "history = optimized_model.fit(X_train, y_train, epochs=10, validation_data=(X_test, y_test), batch_size=16)"
   ]
  },
  {
   "cell_type": "markdown",
   "id": "6e84e6d9-1064-40fb-925b-a3963429dddd",
   "metadata": {},
   "source": [
    "# Compile Best Model and Evaluate"
   ]
  },
  {
   "cell_type": "code",
   "execution_count": 31,
   "id": "86ef9fbb-a01d-499d-933c-38eb98cbf9e4",
   "metadata": {},
   "outputs": [
    {
     "name": "stdout",
     "output_type": "stream",
     "text": [
      "43/43 [==============================] - 0s 3ms/step - loss: 0.4962 - recall: 0.9720 - precision: 0.9720 - categorical_accuracy: 0.9720\n"
     ]
    },
    {
     "data": {
      "text/plain": [
       "[0.4962487816810608,\n",
       " 0.9719763994216919,\n",
       " 0.9719763994216919,\n",
       " 0.9719763994216919]"
      ]
     },
     "execution_count": 31,
     "metadata": {},
     "output_type": "execute_result"
    }
   ],
   "source": [
    "optimized_model.compile(optimizer='adam', loss='categorical_crossentropy', metrics=[Recall(), Precision(), CategoricalAccuracy()])\n",
    "optimized_model.evaluate(X_test, y_test)"
   ]
  },
  {
   "cell_type": "code",
   "execution_count": 32,
   "id": "74a4f376-419d-429d-8798-3cdd767681e4",
   "metadata": {},
   "outputs": [
    {
     "data": {
      "image/png": "[encoded data removed]",
      "text/plain": [
       "<Figure size 1500x1000 with 5 Axes>"
      ]
     },
     "metadata": {},
     "output_type": "display_data"
    }
   ],
   "source": [
    "history_f1 = [2 * (precision * recall) / (precision + recall) for precision, recall in zip(history.history['precision'], history.history['recall'])]\n",
    "val_history_f1 = [2 * (precision * recall) / (precision + recall) for precision, recall in zip(history.history['val_precision'], history.history['val_recall'])]\n",
    "\n",
    "epochs = range(1, len(history.history['loss']) + 1)\n",
    "\n",
    "fig, axes = plt.subplots(2, 3, figsize=(15, 10))\n",
    "fig.tight_layout(pad=5.0)\n",
    "\n",
    "# Loss\n",
    "axes[0, 0].plot(epochs, history.history['loss'], label='Training Loss')\n",
    "axes[0, 0].plot(epochs, history.history['val_loss'], label='Validation Loss')\n",
    "axes[0, 0].set_xlabel('Epochs')\n",
    "axes[0, 0].set_ylabel('Loss')\n",
    "axes[0, 0].legend()\n",
    "axes[0, 0].set_title('Loss')\n",
    "\n",
    "# Accuracy\n",
    "axes[0, 1].plot(epochs, history.history['categorical_accuracy'], label='Training Accuracy')\n",
    "axes[0, 1].plot(epochs, history.history['val_categorical_accuracy'], label='Validation Accuracy')\n",
    "axes[0, 1].set_xlabel('Epochs')\n",
    "axes[0, 1].set_ylabel('Accuracy')\n",
    "axes[0, 1].legend()\n",
    "axes[0, 1].set_title('Accuracy')\n",
    "\n",
    "# Precision\n",
    "axes[0, 2].plot(epochs, history.history['precision'], label='Training Precision')\n",
    "axes[0, 2].plot(epochs, history.history['val_precision'], label='Validation Precision')\n",
    "axes[0, 2].set_xlabel('Epochs')\n",
    "axes[0, 2].set_ylabel('Precision')\n",
    "axes[0, 2].legend()\n",
    "axes[0, 2].set_title('Precision')\n",
    "\n",
    "# Recall\n",
    "axes[1, 0].plot(epochs, history.history['recall'], label='Training Recall')\n",
    "axes[1, 0].plot(epochs, history.history['val_recall'], label='Validation Recall')\n",
    "axes[1, 0].set_xlabel('Epochs')\n",
    "axes[1, 0].set_ylabel('Recall')\n",
    "axes[1, 0].legend()\n",
    "axes[1, 0].set_title('Recall')\n",
    "\n",
    "# F1 Score\n",
    "axes[1, 1].plot(epochs, history_f1, label='Training F1 Score')\n",
    "axes[1, 1].plot(epochs, val_history_f1, label='Validation F1 Score')\n",
    "axes[1, 1].set_xlabel('Epochs')\n",
    "axes[1, 1].set_ylabel('F1 Score')\n",
    "axes[1, 1].legend()\n",
    "axes[1, 1].set_title('F1 Score')\n",
    "\n",
    "# Remove the empty subplot\n",
    "fig.delaxes(axes[1, 2])\n",
    "\n",
    "plt.show()\n"
   ]
  },
  {
   "cell_type": "code",
   "execution_count": 43,
   "id": "e500fc28-3c57-4ef9-8261-2344e4b23091",
   "metadata": {},
   "outputs": [
    {
     "name": "stdout",
     "output_type": "stream",
     "text": [
      "(16, 198, 32)\n",
      "1/1 [==============================] - 0s 15ms/step\n"
     ]
    }
   ],
   "source": [
    "# get one batch and make a prediction\n",
    "X_test, y_test = test.as_numpy_iterator().next()\n",
    "print(X_test.shape)\n",
    "yhat = optimized_model.predict(X_test)\n",
    "\n",
    "# Convert logits to classes\n",
    "y_pred = np.argmax(yhat, axis=1)\n",
    "y_pred\n",
    "\n",
    "# Convert true labels to class indices\n",
    "y_test_indices = np.argmax(y_test, axis=1)"
   ]
  },
  {
   "cell_type": "code",
   "execution_count": 44,
   "id": "e934f8d9-5c39-45c7-af62-b69672d195a9",
   "metadata": {},
   "outputs": [
    {
     "data": {
      "image/png": "[encoded data removed]",
      "text/plain": [
       "<Figure size 640x480 with 2 Axes>"
      ]
     },
     "metadata": {},
     "output_type": "display_data"
    }
   ],
   "source": [
    "from sklearn.metrics import confusion_matrix, ConfusionMatrixDisplay\n",
    "\n",
    "cm = confusion_matrix(y_test_indices, y_pred)\n",
    "\n",
    "# Use the class names as display labels\n",
    "class_names = ['non-bad', 'fuck', 'shit']\n",
    "disp = ConfusionMatrixDisplay(confusion_matrix=cm, display_labels=class_names)\n",
    "disp.plot()\n",
    "plt.show()"
   ]
  },
  {
   "cell_type": "code",
   "execution_count": 45,
   "id": "71570536-d7a8-4111-aa65-a27718beddb3",
   "metadata": {},
   "outputs": [],
   "source": [
    "optimized_model.save_weights(\"MEL_FNN_non_fixed_v5.h5\")"
   ]
  },
  {
   "cell_type": "code",
   "execution_count": 46,
   "id": "1bec357d-b1f0-4108-9e84-af4c31893c71",
   "metadata": {},
   "outputs": [
    {
     "name": "stdout",
     "output_type": "stream",
     "text": [
      "Model: \"model\"\n",
      "_________________________________________________________________\n",
      " Layer (type)                Output Shape              Param #   \n",
      "=================================================================\n",
      " input_1 (InputLayer)        [(1, 198, 32)]            0         \n",
      "                                                                 \n",
      " flatten_2 (Flatten)         (1, 6336)                 0         \n",
      "                                                                 \n",
      " dense_4 (Dense)             (1, 256)                  1622272   \n",
      "                                                                 \n",
      " dropout_2 (Dropout)         (1, 256)                  0         \n",
      "                                                                 \n",
      " dense_5 (Dense)             (1, 3)                    771       \n",
      "                                                                 \n",
      "=================================================================\n",
      "Total params: 1,623,043\n",
      "Trainable params: 1,623,043\n",
      "Non-trainable params: 0\n",
      "_________________________________________________________________\n"
     ]
    }
   ],
   "source": [
    "import tensorflow as tf\n",
    "from tensorflow.keras.models import Sequential, Model\n",
    "from tensorflow.keras.layers import Dense, Flatten, Dropout, Input\n",
    "from tensorflow.keras.optimizers import Adam\n",
    "from tensorflow.keras.metrics import Precision, Recall, CategoricalAccuracy\n",
    "\n",
    "def create_fixed_model():\n",
    "    input_layer = Input(shape=(198, 32), batch_size=1)\n",
    "    x = Flatten()(input_layer)\n",
    "\n",
    "    x = Dense(units=256, activation='relu')(x)\n",
    "    x = Dropout(rate=0.05)(x)\n",
    "\n",
    "    output_layer = Dense(3, activation='softmax')(x)\n",
    "\n",
    "    model = Model(inputs=input_layer, outputs=output_layer)\n",
    "\n",
    "    model.compile(\n",
    "        optimizer=Adam(learning_rate=5e-05),\n",
    "        loss='categorical_crossentropy',\n",
    "        metrics=[Precision(name='precision'), Recall(name='recall'), CategoricalAccuracy(name='categorical_accuracy')]\n",
    "    )\n",
    "\n",
    "    return model\n",
    "\n",
    "\n",
    "\n",
    "# Create the fixed model\n",
    "fixed_model = create_fixed_model()\n",
    "fixed_model.summary()\n"
   ]
  },
  {
   "cell_type": "code",
   "execution_count": 47,
   "id": "5878da24-d184-471b-834d-3bf9e8fbf572",
   "metadata": {},
   "outputs": [],
   "source": [
    "fixed_model.set_weights(optimized_model.get_weights())"
   ]
  },
  {
   "cell_type": "code",
   "execution_count": 48,
   "id": "7b1ec3aa-041e-445c-aca6-ce8a2a819d9c",
   "metadata": {},
   "outputs": [
    {
     "name": "stdout",
     "output_type": "stream",
     "text": [
      "Input shape: [(1, 198, 32)]\n",
      "Output shape: (1, 3)\n"
     ]
    }
   ],
   "source": [
    "input_shape = fixed_model.layers[0].input_shape\n",
    "output_shape = fixed_model.layers[-1].output_shape\n",
    "\n",
    "print(\"Input shape:\", input_shape)\n",
    "print(\"Output shape:\", output_shape)"
   ]
  },
  {
   "cell_type": "code",
   "execution_count": 47,
   "id": "0a6cf6f9-cf31-40de-9dd6-52a210c01637",
   "metadata": {},
   "outputs": [],
   "source": [
    "fixed_model.save(\"MEL_FNN_fixed_V5.h5\")"
   ]
  },
  {
   "cell_type": "markdown",
   "id": "e7fce157",
   "metadata": {},
   "source": [
    "# Convert to TF Lite (8-bit Quantized)"
   ]
  },
  {
   "cell_type": "markdown",
   "id": "8c85785e-852f-4ef5-9d2c-d6095fc63a19",
   "metadata": {},
   "source": [
    "### Create Representative Dataset"
   ]
  },
  {
   "cell_type": "code",
   "execution_count": 48,
   "id": "7b3864d4-b7d8-48e7-baae-1569ee238311",
   "metadata": {},
   "outputs": [],
   "source": [
    "import random\n",
    "\n",
    "def representative_dataset_gen():\n",
    "    preprocessed_data = list(data.as_numpy_iterator())\n",
    "    inputs = np.concatenate([sample[0] for sample in preprocessed_data], axis=0)\n",
    "    labels = np.concatenate([sample[1] for sample in preprocessed_data], axis=0)\n",
    "\n",
    "    sample_indices = np.random.choice(inputs.shape[0], size=100, replace=False)\n",
    "    representative_samples = inputs[sample_indices]\n",
    "\n",
    "    for sample in representative_samples:\n",
    "        # Normalize the input to the range [0, 1]\n",
    "        sample = sample / 255.0 # might need to change normalization method (not use dynamic range compression)\n",
    "\n",
    "        # Reshape the input to the required format\n",
    "        sample = np.expand_dims(sample, axis=0).astype(np.float32)\n",
    "\n",
    "        yield [sample]\n"
   ]
  },
  {
   "cell_type": "markdown",
   "id": "c0a8fd99-23e8-4dd9-9338-c0cebf49a256",
   "metadata": {},
   "source": [
    "### Convert to TFLite"
   ]
  },
  {
   "cell_type": "code",
   "execution_count": 49,
   "id": "7e0faa37",
   "metadata": {},
   "outputs": [
    {
     "name": "stdout",
     "output_type": "stream",
     "text": [
      "INFO:tensorflow:Assets written to: C:\\Users\\jreye\\AppData\\Local\\Temp\\tmph79qs_p5\\assets\n"
     ]
    },
    {
     "name": "stderr",
     "output_type": "stream",
     "text": [
      "C:\\Users\\jreye\\anaconda3\\envs\\test_GPU\\lib\\site-packages\\tensorflow\\lite\\python\\convert.py:766: UserWarning: Statistics for quantized inputs were expected, but not specified; continuing anyway.\n",
      "  warnings.warn(\"Statistics for quantized inputs were expected, but not \"\n"
     ]
    }
   ],
   "source": [
    "# Load the Keras model\n",
    "loaded_model = tf.keras.models.load_model('MEL_FNN_fixed_V5.h5')\n",
    "\n",
    "# Convert the model to TFLite\n",
    "converter = tf.lite.TFLiteConverter.from_keras_model(loaded_model)\n",
    "converter.optimizations = [tf.lite.Optimize.DEFAULT]\n",
    "converter.representative_dataset = representative_dataset_gen\n",
    "converter.target_spec.supported_ops = [tf.lite.OpsSet.TFLITE_BUILTINS_INT8]\n",
    "converter.inference_input_type = tf.int8\n",
    "converter.inference_output_type = tf.int8\n",
    "\n",
    "tflite_quantized_model = converter.convert()\n",
    "\n",
    "# Save the TensorFlow Lite model\n",
    "with open('MEL_FNN_fixed_V5_quantized.tflite', 'wb') as f:\n",
    "    f.write(tflite_quantized_model)\n",
    "\n",
    "    \n",
    "def get_file_size(file_path):\n",
    "    size = os.path.getsize(file_path)\n",
    "    return size\n",
    "\n",
    "def convert_bytes(size, unit=None):\n",
    "    if unit == \"KB\":\n",
    "        return print('File Size: ' + str(round(size /1024, 3)) + ' Kilobytes')\n",
    "    elif unit == \"MB\":\n",
    "        return print('File Size: ' + str(round(size /(1024*1024), 3)) + ' Megabytes')\n",
    "    else:\n",
    "        return print('File Size: ' + str(size) + 'bytes')"
   ]
  },
  {
   "cell_type": "code",
   "execution_count": 50,
   "id": "380f9925",
   "metadata": {},
   "outputs": [
    {
     "name": "stdout",
     "output_type": "stream",
     "text": [
      "File Size: 1.549 Megabytes\n"
     ]
    }
   ],
   "source": [
    "# check input tensor shape\n",
    "convert_bytes(get_file_size(\"MEL_FNN_fixed_V5_quantized.tflite\"), \"MB\")"
   ]
  },
  {
   "cell_type": "code",
   "execution_count": null,
   "id": "66de6384-26dc-438a-b3a2-fbf3d832df28",
   "metadata": {},
   "outputs": [],
   "source": []
  }
 ],
 "metadata": {
  "kernelspec": {
   "display_name": "Python 3 (ipykernel)",
   "language": "python",
   "name": "python3"
  },
  "language_info": {
   "codemirror_mode": {
    "name": "ipython",
    "version": 3
   },
   "file_extension": ".py",
   "mimetype": "text/x-python",
   "name": "python",
   "nbconvert_exporter": "python",
   "pygments_lexer": "ipython3",
   "version": "3.10.10"
  }
 },
 "nbformat": 4,
 "nbformat_minor": 5
}
