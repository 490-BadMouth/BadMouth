{
 "cells": [
  {
   "cell_type": "markdown",
   "id": "6a36deb6",
   "metadata": {},
   "source": [
    "# Load Dependencies"
   ]
  },
  {
   "cell_type": "code",
   "execution_count": 188,
   "id": "424d92b0",
   "metadata": {},
   "outputs": [],
   "source": [
    "import os\n",
    "from matplotlib import pyplot as plt\n",
    "import tensorflow as tf\n",
    "import tensorflow_io as tfio"
   ]
  },
  {
   "cell_type": "markdown",
   "id": "7593d752",
   "metadata": {},
   "source": [
    "# Define Paths to Files"
   ]
  },
  {
   "cell_type": "code",
   "execution_count": 189,
   "id": "5b36f68f",
   "metadata": {},
   "outputs": [],
   "source": [
    "BAD_FILE = os.path.join(\"C:/Users/jreye/AudioAudio/Bad/fuck1.wav\") # path to single file\n",
    "NOT_BAD_FILE = os.path.join(\"C:/Users/jreye/Documents/GoogleSpeech_V2/TRAINING_1/happy (1).wav\")"
   ]
  },
  {
   "cell_type": "markdown",
   "id": "55f1944f",
   "metadata": {},
   "source": [
    "# Build Dataloading Function"
   ]
  },
  {
   "cell_type": "code",
   "execution_count": 190,
   "id": "3c6389c7",
   "metadata": {},
   "outputs": [],
   "source": [
    "def load_wav_16k_mono(filename):\n",
    "    # Load encoded wav file\n",
    "    file_contents = tf.io.read_file(filename)\n",
    "    # Decode wav (tensors by channels) \n",
    "    wav, sample_rate = tf.audio.decode_wav(file_contents, desired_channels=1)\n",
    "    # Removes trailing axis\n",
    "    wav = tf.squeeze(wav, axis=-1)\n",
    "    sample_rate = tf.cast(sample_rate, dtype=tf.int64)\n",
    "    # Goes from 44100Hz to 16000hz - amplitude of the audio signal\n",
    "    wav = tfio.audio.resample(wav, rate_in=sample_rate, rate_out=16000)\n",
    "    return wav"
   ]
  },
  {
   "cell_type": "markdown",
   "id": "b7536dff",
   "metadata": {},
   "source": [
    "# Plot Wave"
   ]
  },
  {
   "cell_type": "code",
   "execution_count": 191,
   "id": "937f96c0",
   "metadata": {},
   "outputs": [],
   "source": [
    "wave = load_wav_16k_mono(BAD_FILE) # load data to plot wave\n",
    "nwave = load_wav_16k_mono(NOT_BAD_FILE)"
   ]
  },
  {
   "cell_type": "code",
   "execution_count": 192,
   "id": "b5c11e1a",
   "metadata": {},
   "outputs": [
    {
     "data": {
      "image/png": "[encoded data removed]",
      "text/plain": [
       "<Figure size 640x480 with 1 Axes>"
      ]
     },
     "metadata": {},
     "output_type": "display_data"
    }
   ],
   "source": [
    "plt.plot(wave)\n",
    "plt.plot(nwave)\n",
    "plt.show()"
   ]
  },
  {
   "cell_type": "markdown",
   "id": "d9367290",
   "metadata": {},
   "source": [
    "# Create TensorFlow Dataset"
   ]
  },
  {
   "cell_type": "code",
   "execution_count": 193,
   "id": "2d708b5f",
   "metadata": {},
   "outputs": [],
   "source": [
    "# define paths to positive and negative data\n",
    "BAD = os.path.join(\"C:/Users/jreye/AudioAudio/Bad\") \n",
    "NOT_BAD = os.path.join(\"C:/Users/jreye/Documents/GoogleSpeech_V2/TRAINING_1\")"
   ]
  },
  {
   "cell_type": "code",
   "execution_count": 194,
   "id": "44f3cfe8",
   "metadata": {},
   "outputs": [
    {
     "data": {
      "text/plain": [
       "'C:/Users/jreye/AudioAudio/Bad'"
      ]
     },
     "execution_count": 194,
     "metadata": {},
     "output_type": "execute_result"
    }
   ],
   "source": [
    "BAD"
   ]
  },
  {
   "cell_type": "code",
   "execution_count": 195,
   "id": "56ce2f3d",
   "metadata": {},
   "outputs": [],
   "source": [
    "# create TensorFlow datasets\n",
    "pos = tf.data.Dataset.list_files(BAD+'\\*.wav') \n",
    "neg = tf.data.Dataset.list_files(NOT_BAD+'\\*.wav')"
   ]
  },
  {
   "cell_type": "code",
   "execution_count": 196,
   "id": "48794ead",
   "metadata": {},
   "outputs": [
    {
     "data": {
      "text/plain": [
       "b'C:\\\\Users\\\\jreye\\\\AudioAudio\\\\Bad\\\\Recording #40.wav'"
      ]
     },
     "execution_count": 196,
     "metadata": {},
     "output_type": "execute_result"
    }
   ],
   "source": [
    "pos.as_numpy_iterator().next()"
   ]
  },
  {
   "cell_type": "code",
   "execution_count": 197,
   "id": "7e3d4025",
   "metadata": {},
   "outputs": [],
   "source": [
    "# add labels and combine positive and negative samples\n",
    "positives = tf.data.Dataset.zip((pos, tf.data.Dataset.from_tensor_slices(tf.ones(len(pos)))))\n",
    "negatives = tf.data.Dataset.zip((neg, tf.data.Dataset.from_tensor_slices(tf.zeros(len(pos)))))\n",
    "data = positives.concatenate(negatives)"
   ]
  },
  {
   "cell_type": "code",
   "execution_count": 198,
   "id": "d3538b76",
   "metadata": {},
   "outputs": [
    {
     "data": {
      "text/plain": [
       "(b'C:\\\\Users\\\\jreye\\\\AudioAudio\\\\Bad\\\\Recording #31.wav', 1.0)"
      ]
     },
     "execution_count": 198,
     "metadata": {},
     "output_type": "execute_result"
    }
   ],
   "source": [
    "positives.as_numpy_iterator().next()"
   ]
  },
  {
   "cell_type": "code",
   "execution_count": 199,
   "id": "84b97dc3",
   "metadata": {},
   "outputs": [
    {
     "data": {
      "text/plain": [
       "(b'C:\\\\Users\\\\jreye\\\\Documents\\\\GoogleSpeech_V2\\\\TRAINING_1\\\\up(52).wav', 0.0)"
      ]
     },
     "execution_count": 199,
     "metadata": {},
     "output_type": "execute_result"
    }
   ],
   "source": [
    "data.shuffle(10000).as_numpy_iterator().next()"
   ]
  },
  {
   "cell_type": "markdown",
   "id": "0e978830",
   "metadata": {},
   "source": [
    "# Determine Average Length of a Spoken Word"
   ]
  },
  {
   "cell_type": "code",
   "execution_count": 200,
   "id": "97ea6b55",
   "metadata": {},
   "outputs": [],
   "source": [
    "# calculate wave cycle length\n",
    "lengths = []\n",
    "for file in os.listdir(os.path.join(\"C:/Users/jreye/AudioAudio/Bad\")):\n",
    "    tensor_wave = load_wav_16k_mono(os.path.join(\"C:/Users/jreye/AudioAudio/Bad\", file))\n",
    "    lengths.append(len(tensor_wave))"
   ]
  },
  {
   "cell_type": "code",
   "execution_count": 201,
   "id": "818c1594",
   "metadata": {},
   "outputs": [
    {
     "data": {
      "text/plain": [
       "['fuck1.wav',\n",
       " 'fuck2.wav',\n",
       " 'fuck3.wav',\n",
       " 'fuck4.wav',\n",
       " 'fuck5.wav',\n",
       " 'fuck6.wav',\n",
       " 'Recording #18.wav',\n",
       " 'Recording #19.wav',\n",
       " 'Recording #20.wav',\n",
       " 'Recording #21.wav',\n",
       " 'Recording #22.wav',\n",
       " 'Recording #23.wav',\n",
       " 'Recording #24.wav',\n",
       " 'Recording #25.wav',\n",
       " 'Recording #26.wav',\n",
       " 'Recording #27.wav',\n",
       " 'Recording #28.wav',\n",
       " 'Recording #29.wav',\n",
       " 'Recording #30.wav',\n",
       " 'Recording #31.wav',\n",
       " 'Recording #32.wav',\n",
       " 'Recording #33.wav',\n",
       " 'Recording #34.wav',\n",
       " 'Recording #35.wav',\n",
       " 'Recording #36.wav',\n",
       " 'Recording #37.wav',\n",
       " 'Recording #38.wav',\n",
       " 'Recording #39.wav',\n",
       " 'Recording #40.wav',\n",
       " 'Recording #41.wav',\n",
       " 'Recording #42.wav',\n",
       " 'Recording #43.wav']"
      ]
     },
     "execution_count": 201,
     "metadata": {},
     "output_type": "execute_result"
    }
   ],
   "source": [
    "# list files in bad words directory\n",
    "os.listdir(os.path.join(\"C:/Users/jreye/AudioAudio/Bad\")) "
   ]
  },
  {
   "cell_type": "code",
   "execution_count": 202,
   "id": "c416b9c3",
   "metadata": {},
   "outputs": [
    {
     "data": {
      "text/plain": [
       "[24706,\n",
       " 28049,\n",
       " 29266,\n",
       " 31764,\n",
       " 16532,\n",
       " 21548,\n",
       " 13003,\n",
       " 20805,\n",
       " 20805,\n",
       " 14303,\n",
       " 14303,\n",
       " 29907,\n",
       " 14303,\n",
       " 20805,\n",
       " 24706,\n",
       " 18204,\n",
       " 15603,\n",
       " 11702,\n",
       " 15603,\n",
       " 14303,\n",
       " 22105,\n",
       " 15603,\n",
       " 14303,\n",
       " 18204,\n",
       " 22105,\n",
       " 19504,\n",
       " 22105,\n",
       " 29907,\n",
       " 29907,\n",
       " 31207,\n",
       " 22105,\n",
       " 23405]"
      ]
     },
     "execution_count": 202,
     "metadata": {},
     "output_type": "execute_result"
    }
   ],
   "source": [
    "# length of each wav file\n",
    "lengths"
   ]
  },
  {
   "cell_type": "code",
   "execution_count": 203,
   "id": "68e9a4bb",
   "metadata": {},
   "outputs": [
    {
     "data": {
      "text/plain": [
       "<tf.Tensor: shape=(), dtype=int32, numpy=20958>"
      ]
     },
     "execution_count": 203,
     "metadata": {},
     "output_type": "execute_result"
    }
   ],
   "source": [
    "# calculate mean\n",
    "tf.math.reduce_mean(lengths)"
   ]
  },
  {
   "cell_type": "code",
   "execution_count": 204,
   "id": "588cb605",
   "metadata": {},
   "outputs": [
    {
     "data": {
      "text/plain": [
       "<tf.Tensor: shape=(), dtype=int32, numpy=11702>"
      ]
     },
     "execution_count": 204,
     "metadata": {},
     "output_type": "execute_result"
    }
   ],
   "source": [
    "# calculate min\n",
    "tf.math.reduce_min(lengths)"
   ]
  },
  {
   "cell_type": "code",
   "execution_count": 205,
   "id": "b898f74b",
   "metadata": {},
   "outputs": [
    {
     "data": {
      "text/plain": [
       "<tf.Tensor: shape=(), dtype=int32, numpy=31764>"
      ]
     },
     "execution_count": 205,
     "metadata": {},
     "output_type": "execute_result"
    }
   ],
   "source": [
    "# calculate max\n",
    "tf.math.reduce_max(lengths)"
   ]
  },
  {
   "cell_type": "code",
   "execution_count": 206,
   "id": "2b13f94d",
   "metadata": {},
   "outputs": [
    {
     "data": {
      "text/plain": [
       "<tf.Tensor: shape=(), dtype=float64, numpy=1.309875>"
      ]
     },
     "execution_count": 206,
     "metadata": {},
     "output_type": "execute_result"
    }
   ],
   "source": [
    "# ave length of bad word\n",
    "tf.math.reduce_mean(lengths)/16000"
   ]
  },
  {
   "cell_type": "code",
   "execution_count": 207,
   "id": "140c0980",
   "metadata": {},
   "outputs": [
    {
     "data": {
      "text/plain": [
       "<tf.Tensor: shape=(), dtype=float64, numpy=0.731375>"
      ]
     },
     "execution_count": 207,
     "metadata": {},
     "output_type": "execute_result"
    }
   ],
   "source": [
    "# min length of bad word\n",
    "tf.math.reduce_min(lengths)/16000"
   ]
  },
  {
   "cell_type": "code",
   "execution_count": 208,
   "id": "a4ffa82e",
   "metadata": {},
   "outputs": [
    {
     "data": {
      "text/plain": [
       "<tf.Tensor: shape=(), dtype=float64, numpy=1.98525>"
      ]
     },
     "execution_count": 208,
     "metadata": {},
     "output_type": "execute_result"
    }
   ],
   "source": [
    "# max length of bad word\n",
    "tf.math.reduce_max(lengths)/16000"
   ]
  },
  {
   "cell_type": "markdown",
   "id": "995c2cda",
   "metadata": {},
   "source": [
    "# Build Preprocessing Function to Convert to Spectrogram"
   ]
  },
  {
   "cell_type": "code",
   "execution_count": 209,
   "id": "1b70c3b8",
   "metadata": {},
   "outputs": [],
   "source": [
    "def preprocess(file_path, label): \n",
    "    wav = load_wav_16k_mono(file_path)\n",
    "    wav = wav[:25000] # 25000 sample length (can make smaller to reduce processing time but will affect accuracy)\n",
    "    zero_padding = tf.zeros([25000] - tf.shape(wav), dtype=tf.float32) \n",
    "    wav = tf.concat([zero_padding, wav],0) # pad clips longer than 25000 samples wiht zeros\n",
    "    spectrogram = tf.signal.stft(wav, frame_length=320, frame_step=32)\n",
    "    spectrogram = tf.abs(spectrogram)\n",
    "    spectrogram = tf.expand_dims(spectrogram, axis=2)\n",
    "    return spectrogram, label"
   ]
  },
  {
   "cell_type": "code",
   "execution_count": 210,
   "id": "350d0b89",
   "metadata": {},
   "outputs": [
    {
     "data": {
      "image/png": "[encoded data removed]",
      "text/plain": [
       "<Figure size 3000x2000 with 1 Axes>"
      ]
     },
     "metadata": {},
     "output_type": "display_data"
    }
   ],
   "source": [
    "# test out the function and visualize the spectrogram (bad words)\n",
    "filepath, label = positives.shuffle(buffer_size=10000).as_numpy_iterator().next()\n",
    "spectrogram, label = preprocess(filepath, label)\n",
    "plt.figure(figsize=(30,20))\n",
    "plt.imshow(tf.transpose(spectrogram)[0])\n",
    "plt.show()"
   ]
  },
  {
   "cell_type": "markdown",
   "id": "48d46c04",
   "metadata": {},
   "source": [
    "# Create Training and Testing Partitions"
   ]
  },
  {
   "cell_type": "code",
   "execution_count": 211,
   "id": "89cd2dde",
   "metadata": {},
   "outputs": [
    {
     "data": {
      "text/plain": [
       "64"
      ]
     },
     "execution_count": 211,
     "metadata": {},
     "output_type": "execute_result"
    }
   ],
   "source": [
    "len(data)"
   ]
  },
  {
   "cell_type": "code",
   "execution_count": 212,
   "id": "91d373ba",
   "metadata": {},
   "outputs": [
    {
     "name": "stdout",
     "output_type": "stream",
     "text": [
      "WARNING:tensorflow:Using a while_loop for converting IO>AudioResample cause there is no registered converter for this op.\n"
     ]
    }
   ],
   "source": [
    "# create TensorFlow data pipeline\n",
    "data = data.map(preprocess)\n",
    "data = data.cache()\n",
    "data = data.shuffle(buffer_size=1000)\n",
    "data = data.batch(4)\n",
    "data = data.prefetch(2)"
   ]
  },
  {
   "cell_type": "code",
   "execution_count": 216,
   "id": "0fc28584",
   "metadata": {},
   "outputs": [
    {
     "data": {
      "text/plain": [
       "16"
      ]
     },
     "execution_count": 216,
     "metadata": {},
     "output_type": "execute_result"
    }
   ],
   "source": [
    "len(data)"
   ]
  },
  {
   "cell_type": "code",
   "execution_count": 217,
   "id": "9a60d1de",
   "metadata": {},
   "outputs": [],
   "source": [
    "# split into training and testing partitions\n",
    "train = data.take(11)\n",
    "test = data.skip(11).take(5)"
   ]
  },
  {
   "cell_type": "code",
   "execution_count": 218,
   "id": "66dc5093",
   "metadata": {},
   "outputs": [],
   "source": [
    "# test one batch\n",
    "samples, labels = train.as_numpy_iterator().next()"
   ]
  },
  {
   "cell_type": "code",
   "execution_count": 219,
   "id": "c9afd344",
   "metadata": {},
   "outputs": [
    {
     "data": {
      "text/plain": [
       "(4, 772, 257, 1)"
      ]
     },
     "execution_count": 219,
     "metadata": {},
     "output_type": "execute_result"
    }
   ],
   "source": [
    "samples.shape"
   ]
  },
  {
   "cell_type": "code",
   "execution_count": 221,
   "id": "5c1988fc",
   "metadata": {},
   "outputs": [
    {
     "data": {
      "text/plain": [
       "array([1., 0., 1., 0.], dtype=float32)"
      ]
     },
     "execution_count": 221,
     "metadata": {},
     "output_type": "execute_result"
    }
   ],
   "source": [
    "labels"
   ]
  },
  {
   "cell_type": "markdown",
   "id": "70bba001",
   "metadata": {},
   "source": [
    "# Build Deep Learning Model"
   ]
  },
  {
   "cell_type": "code",
   "execution_count": 222,
   "id": "3ab08fcf",
   "metadata": {},
   "outputs": [],
   "source": [
    "# load Keras Model dependencies\n",
    "from tensorflow.keras.models import Sequential\n",
    "from tensorflow.keras.layers import Conv2D, Dense, Flatten"
   ]
  },
  {
   "cell_type": "code",
   "execution_count": 224,
   "id": "482fbc1d",
   "metadata": {},
   "outputs": [],
   "source": [
    "# build sequential model, compile, and view summary\n",
    "model = Sequential()\n",
    "model.add(Conv2D(16, (3,3), activation='relu', input_shape=(772, 257, 1))) # input shape depends on shape of our spec\n",
    "model.add(Conv2D(16, (3,3), activation='relu'))\n",
    "model.add(Flatten())\n",
    "model.add(Dense(128, activation='relu'))\n",
    "model.add(Dense(1, activation='sigmoid'))\n",
    "\n",
    "# add max pooling layers to reduce number of parameters"
   ]
  },
  {
   "cell_type": "code",
   "execution_count": 225,
   "id": "b4c0fcdc",
   "metadata": {},
   "outputs": [],
   "source": [
    "model.compile('Adam', loss='BinaryCrossentropy', metrics=[tf.keras.metrics.Recall(),tf.keras.metrics.Precision()])"
   ]
  },
  {
   "cell_type": "code",
   "execution_count": 226,
   "id": "6182d4e4",
   "metadata": {},
   "outputs": [
    {
     "name": "stdout",
     "output_type": "stream",
     "text": [
      "Model: \"sequential\"\n",
      "_________________________________________________________________\n",
      " Layer (type)                Output Shape              Param #   \n",
      "=================================================================\n",
      " conv2d (Conv2D)             (None, 770, 255, 16)      160       \n",
      "                                                                 \n",
      " conv2d_1 (Conv2D)           (None, 768, 253, 16)      2320      \n",
      "                                                                 \n",
      " flatten (Flatten)           (None, 3108864)           0         \n",
      "                                                                 \n",
      " dense (Dense)               (None, 128)               397934720 \n",
      "                                                                 \n",
      " dense_1 (Dense)             (None, 1)                 129       \n",
      "                                                                 \n",
      "=================================================================\n",
      "Total params: 397,937,329\n",
      "Trainable params: 397,937,329\n",
      "Non-trainable params: 0\n",
      "_________________________________________________________________\n"
     ]
    }
   ],
   "source": [
    "model.summary()"
   ]
  },
  {
   "cell_type": "markdown",
   "id": "ed608e19",
   "metadata": {},
   "source": [
    "# Fit Model, View Loss, and KPI Plots"
   ]
  },
  {
   "cell_type": "code",
   "execution_count": 227,
   "id": "4760aa4b",
   "metadata": {},
   "outputs": [
    {
     "name": "stdout",
     "output_type": "stream",
     "text": [
      "Epoch 1/4\n",
      "11/11 [==============================] - 48s 4s/step - loss: 15.3910 - recall: 0.6522 - precision: 0.5556 - val_loss: 3.4721 - val_recall: 0.9167 - val_precision: 0.7333\n",
      "Epoch 2/4\n",
      "11/11 [==============================] - 31s 3s/step - loss: 2.6786 - recall: 0.4286 - precision: 0.6923 - val_loss: 1.0109 - val_recall: 0.5455 - val_precision: 1.0000\n",
      "Epoch 3/4\n",
      "11/11 [==============================] - 31s 3s/step - loss: 0.7061 - recall: 0.6087 - precision: 1.0000 - val_loss: 0.2085 - val_recall: 0.8000 - val_precision: 1.0000\n",
      "Epoch 4/4\n",
      "11/11 [==============================] - 31s 3s/step - loss: 0.3473 - recall: 0.6818 - precision: 0.9375 - val_loss: 0.1251 - val_recall: 1.0000 - val_precision: 1.0000\n"
     ]
    }
   ],
   "source": [
    "# train the model\n",
    "hist = model.fit(train, epochs=4, validation_data=test)"
   ]
  },
  {
   "cell_type": "code",
   "execution_count": 228,
   "id": "a3340e59",
   "metadata": {},
   "outputs": [
    {
     "data": {
      "image/png": "[encoded data removed]",
      "text/plain": [
       "<Figure size 640x480 with 1 Axes>"
      ]
     },
     "metadata": {},
     "output_type": "display_data"
    }
   ],
   "source": [
    "# plot loss\n",
    "plt.title('Loss')\n",
    "plt.plot(hist.history['loss'], 'r')\n",
    "plt.plot(hist.history['val_loss'], 'b')\n",
    "plt.show()"
   ]
  },
  {
   "cell_type": "code",
   "execution_count": 229,
   "id": "f2be9cf0",
   "metadata": {},
   "outputs": [
    {
     "data": {
      "image/png": "[encoded data removed]",
      "text/plain": [
       "<Figure size 640x480 with 1 Axes>"
      ]
     },
     "metadata": {},
     "output_type": "display_data"
    }
   ],
   "source": [
    "# plot precision\n",
    "plt.title('Precision')\n",
    "plt.plot(hist.history['precision'], 'r')\n",
    "plt.plot(hist.history['val_precision'], 'b')\n",
    "plt.show()"
   ]
  },
  {
   "cell_type": "code",
   "execution_count": 230,
   "id": "e2da04cb",
   "metadata": {},
   "outputs": [
    {
     "data": {
      "image/png": "[encoded data removed]",
      "text/plain": [
       "<Figure size 640x480 with 1 Axes>"
      ]
     },
     "metadata": {},
     "output_type": "display_data"
    }
   ],
   "source": [
    "# plot recall\n",
    "plt.title('Recall')\n",
    "plt.plot(hist.history['recall'], 'r')\n",
    "plt.plot(hist.history['val_recall'], 'b')\n",
    "plt.show()"
   ]
  },
  {
   "cell_type": "markdown",
   "id": "4053dec5",
   "metadata": {},
   "source": [
    "# Make a Prediction on a Single Clip"
   ]
  },
  {
   "cell_type": "code",
   "execution_count": 317,
   "id": "c70d00c2",
   "metadata": {},
   "outputs": [],
   "source": [
    "# get one batch and make a prediction\n",
    "X_test, y_test = test.as_numpy_iterator().next()"
   ]
  },
  {
   "cell_type": "code",
   "execution_count": 318,
   "id": "82fee952",
   "metadata": {},
   "outputs": [
    {
     "name": "stdout",
     "output_type": "stream",
     "text": [
      "1/1 [==============================] - 0s 103ms/step\n"
     ]
    }
   ],
   "source": [
    "yhat = model.predict(X_test)"
   ]
  },
  {
   "cell_type": "code",
   "execution_count": 319,
   "id": "caa7709c",
   "metadata": {},
   "outputs": [
    {
     "data": {
      "text/plain": [
       "array([[0.920885  ],\n",
       "       [0.38942653],\n",
       "       [0.00170805],\n",
       "       [0.00179715]], dtype=float32)"
      ]
     },
     "execution_count": 319,
     "metadata": {},
     "output_type": "execute_result"
    }
   ],
   "source": [
    "yhat"
   ]
  },
  {
   "cell_type": "code",
   "execution_count": 320,
   "id": "5d8aef15",
   "metadata": {},
   "outputs": [],
   "source": [
    "# Convert logits to classes\n",
    "yhat = [1 if prediction > 0.5 else 0 for prediction in yhat]"
   ]
  },
  {
   "cell_type": "code",
   "execution_count": 321,
   "id": "31832bc7",
   "metadata": {},
   "outputs": [
    {
     "data": {
      "text/plain": [
       "[1, 0, 0, 0]"
      ]
     },
     "execution_count": 321,
     "metadata": {},
     "output_type": "execute_result"
    }
   ],
   "source": [
    "yhat"
   ]
  },
  {
   "cell_type": "code",
   "execution_count": 322,
   "id": "ddecd548",
   "metadata": {},
   "outputs": [
    {
     "data": {
      "text/plain": [
       "<tf.Tensor: shape=(), dtype=int32, numpy=1>"
      ]
     },
     "execution_count": 322,
     "metadata": {},
     "output_type": "execute_result"
    }
   ],
   "source": [
    "tf.math.reduce_sum(yhat)"
   ]
  },
  {
   "cell_type": "code",
   "execution_count": 323,
   "id": "54ab271c",
   "metadata": {},
   "outputs": [
    {
     "data": {
      "text/plain": [
       "<tf.Tensor: shape=(), dtype=float32, numpy=2.0>"
      ]
     },
     "execution_count": 323,
     "metadata": {},
     "output_type": "execute_result"
    }
   ],
   "source": [
    "tf.math.reduce_sum(y_test)"
   ]
  },
  {
   "cell_type": "code",
   "execution_count": 324,
   "id": "334507ca",
   "metadata": {},
   "outputs": [
    {
     "data": {
      "text/plain": [
       "array([1, 1, 0, 0])"
      ]
     },
     "execution_count": 324,
     "metadata": {},
     "output_type": "execute_result"
    }
   ],
   "source": [
    "y_test.astype(int)"
   ]
  }
 ],
 "metadata": {
  "kernelspec": {
   "display_name": "Python 3 (ipykernel)",
   "language": "python",
   "name": "python3"
  },
  "language_info": {
   "codemirror_mode": {
    "name": "ipython",
    "version": 3
   },
   "file_extension": ".py",
   "mimetype": "text/x-python",
   "name": "python",
   "nbconvert_exporter": "python",
   "pygments_lexer": "ipython3",
   "version": "3.9.13"
  }
 },
 "nbformat": 4,
 "nbformat_minor": 5
}
