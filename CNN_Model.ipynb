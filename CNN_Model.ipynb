{
 "cells": [
  {
   "cell_type": "markdown",
   "id": "6a36deb6",
   "metadata": {},
   "source": [
    "# Load Dependencies"
   ]
  },
  {
   "cell_type": "code",
   "execution_count": 1,
   "id": "424d92b0",
   "metadata": {},
   "outputs": [],
   "source": [
    "import os\n",
    "from matplotlib import pyplot as plt\n",
    "import tensorflow as tf\n",
    "import tensorflow_io as tfio"
   ]
  },
  {
   "cell_type": "markdown",
   "id": "7593d752",
   "metadata": {},
   "source": [
    "# Define Paths to Files"
   ]
  },
  {
   "cell_type": "code",
   "execution_count": 80,
   "id": "5b36f68f",
   "metadata": {},
   "outputs": [
    {
     "ename": "SyntaxError",
     "evalue": "EOL while scanning string literal (435423134.py, line 2)",
     "output_type": "error",
     "traceback": [
      "\u001b[1;36m  File \u001b[1;32m\"C:\\Users\\jreye\\AppData\\Local\\Temp\\ipykernel_6356\\435423134.py\"\u001b[1;36m, line \u001b[1;32m2\u001b[0m\n\u001b[1;33m    NOT_BAD_FILE = os.path.join(\"C:/Users/jreye/Documents/GoogleSpeech_V2/TRAINING_1/happy (1).wav')\u001b[0m\n\u001b[1;37m                                                                                                    ^\u001b[0m\n\u001b[1;31mSyntaxError\u001b[0m\u001b[1;31m:\u001b[0m EOL while scanning string literal\n"
     ]
    }
   ],
   "source": [
    "BAD_FILE = os.path.join(\"C:/Users/jreye/AudioAudio/Bad/fuck1.wav\") # path to single file\n",
    "NOT_BAD_FILE = os.path.join(\"C:/Users/jreye/Documents/GoogleSpeech_V2/TRAINING_1/happy (1).wav\")"
   ]
  },
  {
   "cell_type": "markdown",
   "id": "55f1944f",
   "metadata": {},
   "source": [
    "# Build Dataloading Function"
   ]
  },
  {
   "cell_type": "code",
   "execution_count": 3,
   "id": "3c6389c7",
   "metadata": {},
   "outputs": [],
   "source": [
    "def load_wav_16k_mono(filename):\n",
    "    # Load encoded wav file\n",
    "    file_contents = tf.io.read_file(filename)\n",
    "    # Decode wav (tensors by channels) \n",
    "    wav, sample_rate = tf.audio.decode_wav(file_contents, desired_channels=1)\n",
    "    # Removes trailing axis\n",
    "    wav = tf.squeeze(wav, axis=-1)\n",
    "    sample_rate = tf.cast(sample_rate, dtype=tf.int64)\n",
    "    # Goes from 44100Hz to 16000hz - amplitude of the audio signal\n",
    "    wav = tfio.audio.resample(wav, rate_in=sample_rate, rate_out=16000)\n",
    "    return wav"
   ]
  },
  {
   "cell_type": "markdown",
   "id": "b7536dff",
   "metadata": {},
   "source": [
    "# Plot Wave"
   ]
  },
  {
   "cell_type": "code",
   "execution_count": 4,
   "id": "937f96c0",
   "metadata": {},
   "outputs": [],
   "source": [
    "wave = load_wav_16k_mono(BAD_FILE) # load data to plot wave\n",
    "nwave = load_wav_16k_mono(NOT_BAD_FILE)"
   ]
  },
  {
   "cell_type": "code",
   "execution_count": 5,
   "id": "b5c11e1a",
   "metadata": {},
   "outputs": [
    {
     "data": {
      "image/png": "[encoded data removed]",
      "text/plain": [
       "<Figure size 640x480 with 1 Axes>"
      ]
     },
     "metadata": {},
     "output_type": "display_data"
    }
   ],
   "source": [
    "plt.plot(wave)\n",
    "plt.plot(nwave)\n",
    "plt.show()"
   ]
  },
  {
   "cell_type": "markdown",
   "id": "d9367290",
   "metadata": {},
   "source": [
    "# Create TensorFlow Dataset"
   ]
  },
  {
   "cell_type": "code",
   "execution_count": 6,
   "id": "2d708b5f",
   "metadata": {},
   "outputs": [],
   "source": [
    "# define paths to positive and negative data\n",
    "BAD = os.path.join(\"C:/Users/jreye/AudioAudio/Bad\") \n",
    "NOT_BAD = os.path.join(\"C:/Users/jreye/Documents/GoogleSpeech_V2/TRAINING_1\")"
   ]
  },
  {
   "cell_type": "code",
   "execution_count": 7,
   "id": "44f3cfe8",
   "metadata": {},
   "outputs": [
    {
     "data": {
      "text/plain": [
       "'C:/Users/jreye/AudioAudio/Bad'"
      ]
     },
     "execution_count": 7,
     "metadata": {},
     "output_type": "execute_result"
    }
   ],
   "source": [
    "BAD"
   ]
  },
  {
   "cell_type": "code",
   "execution_count": 8,
   "id": "56ce2f3d",
   "metadata": {},
   "outputs": [],
   "source": [
    "# create TensorFlow datasets\n",
    "pos = tf.data.Dataset.list_files(BAD+'\\*.wav') \n",
    "neg = tf.data.Dataset.list_files(NOT_BAD+'\\*.wav')"
   ]
  },
  {
   "cell_type": "code",
   "execution_count": 9,
   "id": "48794ead",
   "metadata": {},
   "outputs": [
    {
     "data": {
      "text/plain": [
       "b'C:\\\\Users\\\\jreye\\\\AudioAudio\\\\Bad\\\\Recording #26.wav'"
      ]
     },
     "execution_count": 9,
     "metadata": {},
     "output_type": "execute_result"
    }
   ],
   "source": [
    "pos.as_numpy_iterator().next()"
   ]
  },
  {
   "cell_type": "code",
   "execution_count": 10,
   "id": "7e3d4025",
   "metadata": {},
   "outputs": [],
   "source": [
    "# add labels and combine positive and negative samples\n",
    "positives = tf.data.Dataset.zip((pos, tf.data.Dataset.from_tensor_slices(tf.ones(len(pos)))))\n",
    "negatives = tf.data.Dataset.zip((neg, tf.data.Dataset.from_tensor_slices(tf.zeros(len(pos)))))\n",
    "data = positives.concatenate(negatives)"
   ]
  },
  {
   "cell_type": "code",
   "execution_count": 11,
   "id": "d3538b76",
   "metadata": {},
   "outputs": [
    {
     "data": {
      "text/plain": [
       "(b'C:\\\\Users\\\\jreye\\\\AudioAudio\\\\Bad\\\\fuck3.wav', 1.0)"
      ]
     },
     "execution_count": 11,
     "metadata": {},
     "output_type": "execute_result"
    }
   ],
   "source": [
    "positives.as_numpy_iterator().next()"
   ]
  },
  {
   "cell_type": "code",
   "execution_count": 12,
   "id": "84b97dc3",
   "metadata": {},
   "outputs": [
    {
     "data": {
      "text/plain": [
       "(b'C:\\\\Users\\\\jreye\\\\AudioAudio\\\\Bad\\\\Recording #18.wav', 1.0)"
      ]
     },
     "execution_count": 12,
     "metadata": {},
     "output_type": "execute_result"
    }
   ],
   "source": [
    "data.shuffle(10000).as_numpy_iterator().next()"
   ]
  },
  {
   "cell_type": "markdown",
   "id": "0e978830",
   "metadata": {},
   "source": [
    "# Determine Average Length of a Spoken Word"
   ]
  },
  {
   "cell_type": "code",
   "execution_count": 13,
   "id": "97ea6b55",
   "metadata": {},
   "outputs": [
    {
     "name": "stdout",
     "output_type": "stream",
     "text": [
      "WARNING:tensorflow:5 out of the last 5 calls to <function pfor.<locals>.f at 0x0000022402F345E0> triggered tf.function retracing. Tracing is expensive and the excessive number of tracings could be due to (1) creating @tf.function repeatedly in a loop, (2) passing tensors with different shapes, (3) passing Python objects instead of tensors. For (1), please define your @tf.function outside of the loop. For (2), @tf.function has reduce_retracing=True option that can avoid unnecessary retracing. For (3), please refer to https://www.tensorflow.org/guide/function#controlling_retracing and https://www.tensorflow.org/api_docs/python/tf/function for  more details.\n",
      "WARNING:tensorflow:6 out of the last 6 calls to <function pfor.<locals>.f at 0x0000022401B80550> triggered tf.function retracing. Tracing is expensive and the excessive number of tracings could be due to (1) creating @tf.function repeatedly in a loop, (2) passing tensors with different shapes, (3) passing Python objects instead of tensors. For (1), please define your @tf.function outside of the loop. For (2), @tf.function has reduce_retracing=True option that can avoid unnecessary retracing. For (3), please refer to https://www.tensorflow.org/guide/function#controlling_retracing and https://www.tensorflow.org/api_docs/python/tf/function for  more details.\n"
     ]
    }
   ],
   "source": [
    "# calculate wave cycle length\n",
    "lengths = []\n",
    "for file in os.listdir(os.path.join(\"C:/Users/jreye/AudioAudio/Bad\")):\n",
    "    tensor_wave = load_wav_16k_mono(os.path.join(\"C:/Users/jreye/AudioAudio/Bad\", file))\n",
    "    lengths.append(len(tensor_wave))"
   ]
  },
  {
   "cell_type": "code",
   "execution_count": 14,
   "id": "de514afe",
   "metadata": {},
   "outputs": [
    {
     "data": {
      "text/plain": [
       "['fuck1.wav',\n",
       " 'fuck2.wav',\n",
       " 'fuck3.wav',\n",
       " 'fuck4.wav',\n",
       " 'fuck5.wav',\n",
       " 'fuck6.wav',\n",
       " 'Recording #18.wav',\n",
       " 'Recording #19.wav',\n",
       " 'Recording #20.wav',\n",
       " 'Recording #21.wav',\n",
       " 'Recording #22.wav',\n",
       " 'Recording #23.wav',\n",
       " 'Recording #24.wav',\n",
       " 'Recording #25.wav',\n",
       " 'Recording #26.wav',\n",
       " 'Recording #27.wav',\n",
       " 'Recording #28.wav',\n",
       " 'Recording #29.wav',\n",
       " 'Recording #30.wav',\n",
       " 'Recording #31.wav',\n",
       " 'Recording #32.wav',\n",
       " 'Recording #33.wav',\n",
       " 'Recording #34.wav',\n",
       " 'Recording #35.wav',\n",
       " 'Recording #36.wav',\n",
       " 'Recording #37.wav',\n",
       " 'Recording #38.wav',\n",
       " 'Recording #39.wav',\n",
       " 'Recording #40.wav',\n",
       " 'Recording #41.wav',\n",
       " 'Recording #42.wav',\n",
       " 'Recording #43.wav']"
      ]
     },
     "execution_count": 14,
     "metadata": {},
     "output_type": "execute_result"
    }
   ],
   "source": [
    "# list files in bad words directory\n",
    "os.listdir(os.path.join(\"C:/Users/jreye/AudioAudio/Bad\")) "
   ]
  },
  {
   "cell_type": "code",
   "execution_count": 15,
   "id": "9bc3d91a",
   "metadata": {},
   "outputs": [
    {
     "data": {
      "text/plain": [
       "[24706,\n",
       " 28049,\n",
       " 29266,\n",
       " 31764,\n",
       " 16532,\n",
       " 21548,\n",
       " 13003,\n",
       " 20805,\n",
       " 20805,\n",
       " 14303,\n",
       " 14303,\n",
       " 29907,\n",
       " 14303,\n",
       " 20805,\n",
       " 24706,\n",
       " 18204,\n",
       " 15603,\n",
       " 11702,\n",
       " 15603,\n",
       " 14303,\n",
       " 22105,\n",
       " 15603,\n",
       " 14303,\n",
       " 18204,\n",
       " 22105,\n",
       " 19504,\n",
       " 22105,\n",
       " 29907,\n",
       " 29907,\n",
       " 31207,\n",
       " 22105,\n",
       " 23405]"
      ]
     },
     "execution_count": 15,
     "metadata": {},
     "output_type": "execute_result"
    }
   ],
   "source": [
    "# length of each wav file\n",
    "lengths"
   ]
  },
  {
   "cell_type": "code",
   "execution_count": 16,
   "id": "35e56e0a",
   "metadata": {},
   "outputs": [
    {
     "data": {
      "text/plain": [
       "<tf.Tensor: shape=(), dtype=int32, numpy=20958>"
      ]
     },
     "execution_count": 16,
     "metadata": {},
     "output_type": "execute_result"
    }
   ],
   "source": [
    "# calculate mean\n",
    "tf.math.reduce_mean(lengths)"
   ]
  },
  {
   "cell_type": "code",
   "execution_count": 17,
   "id": "f371e090",
   "metadata": {},
   "outputs": [
    {
     "data": {
      "text/plain": [
       "<tf.Tensor: shape=(), dtype=int32, numpy=11702>"
      ]
     },
     "execution_count": 17,
     "metadata": {},
     "output_type": "execute_result"
    }
   ],
   "source": [
    "# calculate min\n",
    "tf.math.reduce_min(lengths)"
   ]
  },
  {
   "cell_type": "code",
   "execution_count": 18,
   "id": "ca03fe75",
   "metadata": {},
   "outputs": [
    {
     "data": {
      "text/plain": [
       "<tf.Tensor: shape=(), dtype=int32, numpy=31764>"
      ]
     },
     "execution_count": 18,
     "metadata": {},
     "output_type": "execute_result"
    }
   ],
   "source": [
    "# calculate max\n",
    "tf.math.reduce_max(lengths)"
   ]
  },
  {
   "cell_type": "code",
   "execution_count": 19,
   "id": "b0da94fd",
   "metadata": {},
   "outputs": [
    {
     "data": {
      "text/plain": [
       "<tf.Tensor: shape=(), dtype=float64, numpy=1.309875>"
      ]
     },
     "execution_count": 19,
     "metadata": {},
     "output_type": "execute_result"
    }
   ],
   "source": [
    "# ave length of bad word\n",
    "tf.math.reduce_mean(lengths)/16000"
   ]
  },
  {
   "cell_type": "code",
   "execution_count": 20,
   "id": "ee44617a",
   "metadata": {},
   "outputs": [
    {
     "data": {
      "text/plain": [
       "<tf.Tensor: shape=(), dtype=float64, numpy=0.731375>"
      ]
     },
     "execution_count": 20,
     "metadata": {},
     "output_type": "execute_result"
    }
   ],
   "source": [
    "# min length of bad word\n",
    "tf.math.reduce_min(lengths)/16000"
   ]
  },
  {
   "cell_type": "code",
   "execution_count": 21,
   "id": "9887539b",
   "metadata": {},
   "outputs": [
    {
     "data": {
      "text/plain": [
       "<tf.Tensor: shape=(), dtype=float64, numpy=1.98525>"
      ]
     },
     "execution_count": 21,
     "metadata": {},
     "output_type": "execute_result"
    }
   ],
   "source": [
    "# max length of bad word\n",
    "tf.math.reduce_max(lengths)/16000"
   ]
  },
  {
   "cell_type": "markdown",
   "id": "163c0f13",
   "metadata": {},
   "source": [
    "# Build Preprocessing Function to Convert to Spectrogram"
   ]
  },
  {
   "cell_type": "code",
   "execution_count": 22,
   "id": "aaee5299",
   "metadata": {},
   "outputs": [],
   "source": [
    "def preprocess(file_path, label): \n",
    "    wav = load_wav_16k_mono(file_path)\n",
    "    wav = wav[:25000] # 25000 sample length (can make smaller to reduce processing time but will affect accuracy)\n",
    "    zero_padding = tf.zeros([25000] - tf.shape(wav), dtype=tf.float32) \n",
    "    wav = tf.concat([zero_padding, wav],0) # pad clips longer than 25000 samples wiht zeros\n",
    "    spectrogram = tf.signal.stft(wav, frame_length=320, frame_step=32)\n",
    "    spectrogram = tf.abs(spectrogram)\n",
    "    spectrogram = tf.expand_dims(spectrogram, axis=2)\n",
    "    return spectrogram, label"
   ]
  },
  {
   "cell_type": "code",
   "execution_count": 23,
   "id": "e33570be",
   "metadata": {},
   "outputs": [
    {
     "data": {
      "image/png": "[encoded data removed]",
      "text/plain": [
       "<Figure size 3000x2000 with 1 Axes>"
      ]
     },
     "metadata": {},
     "output_type": "display_data"
    }
   ],
   "source": [
    "# test out the function and visualize the spectrogram (bad words)\n",
    "filepath, label = positives.shuffle(buffer_size=10000).as_numpy_iterator().next()\n",
    "spectrogram, label = preprocess(filepath, label)\n",
    "plt.figure(figsize=(30,20))\n",
    "plt.imshow(tf.transpose(spectrogram)[0])\n",
    "plt.show()"
   ]
  },
  {
   "cell_type": "markdown",
   "id": "88ae631b",
   "metadata": {},
   "source": [
    "# Create Training and Testing Partitions"
   ]
  },
  {
   "cell_type": "code",
   "execution_count": 24,
   "id": "98148071",
   "metadata": {},
   "outputs": [
    {
     "data": {
      "text/plain": [
       "64"
      ]
     },
     "execution_count": 24,
     "metadata": {},
     "output_type": "execute_result"
    }
   ],
   "source": [
    "len(data)"
   ]
  },
  {
   "cell_type": "code",
   "execution_count": 25,
   "id": "2ba262a8",
   "metadata": {},
   "outputs": [
    {
     "name": "stdout",
     "output_type": "stream",
     "text": [
      "WARNING:tensorflow:From C:\\Users\\jreye\\anaconda3\\lib\\site-packages\\tensorflow\\python\\autograph\\pyct\\static_analysis\\liveness.py:83: Analyzer.lamba_check (from tensorflow.python.autograph.pyct.static_analysis.liveness) is deprecated and will be removed after 2023-09-23.\n",
      "Instructions for updating:\n",
      "Lambda fuctions will be no more assumed to be used in the statement where they are used, or at least in the same block. https://github.com/tensorflow/tensorflow/issues/56089\n",
      "WARNING:tensorflow:Using a while_loop for converting IO>AudioResample cause there is no registered converter for this op.\n"
     ]
    }
   ],
   "source": [
    "# create TensorFlow data pipeline\n",
    "data = data.map(preprocess)\n",
    "data = data.cache()\n",
    "data = data.shuffle(buffer_size=1000)\n",
    "data = data.batch(4)\n",
    "data = data.prefetch(2)"
   ]
  },
  {
   "cell_type": "code",
   "execution_count": 26,
   "id": "4a13ace7",
   "metadata": {},
   "outputs": [
    {
     "data": {
      "text/plain": [
       "16"
      ]
     },
     "execution_count": 26,
     "metadata": {},
     "output_type": "execute_result"
    }
   ],
   "source": [
    "len(data)"
   ]
  },
  {
   "cell_type": "code",
   "execution_count": 27,
   "id": "00e386cd",
   "metadata": {},
   "outputs": [],
   "source": [
    "# split into training and testing partitions\n",
    "train = data.take(11)\n",
    "test = data.skip(11).take(5)"
   ]
  },
  {
   "cell_type": "code",
   "execution_count": 28,
   "id": "fc6ca71e",
   "metadata": {},
   "outputs": [],
   "source": [
    "# test one batch\n",
    "samples, labels = train.as_numpy_iterator().next()"
   ]
  },
  {
   "cell_type": "code",
   "execution_count": 29,
   "id": "9cb25426",
   "metadata": {},
   "outputs": [
    {
     "data": {
      "text/plain": [
       "(4, 772, 257, 1)"
      ]
     },
     "execution_count": 29,
     "metadata": {},
     "output_type": "execute_result"
    }
   ],
   "source": [
    "samples.shape"
   ]
  },
  {
   "cell_type": "code",
   "execution_count": 30,
   "id": "43662af6",
   "metadata": {},
   "outputs": [
    {
     "data": {
      "text/plain": [
       "array([1., 1., 0., 1.], dtype=float32)"
      ]
     },
     "execution_count": 30,
     "metadata": {},
     "output_type": "execute_result"
    }
   ],
   "source": [
    "labels"
   ]
  },
  {
   "cell_type": "markdown",
   "id": "f0b6c760",
   "metadata": {},
   "source": [
    "# Build Deep Learning Model"
   ]
  },
  {
   "cell_type": "code",
   "execution_count": 31,
   "id": "f7a673f6",
   "metadata": {},
   "outputs": [],
   "source": [
    "# load Keras Model dependencies\n",
    "from tensorflow.keras.models import Sequential\n",
    "from tensorflow.keras.layers import Conv2D, Dense, Flatten, MaxPooling2D\n",
    "from tensorflow.keras.callbacks import TensorBoard # to view statistics"
   ]
  },
  {
   "cell_type": "markdown",
   "id": "7c983154",
   "metadata": {},
   "source": [
    "# First Iteration Model"
   ]
  },
  {
   "cell_type": "code",
   "execution_count": 32,
   "id": "fa557ef5",
   "metadata": {},
   "outputs": [],
   "source": [
    "# build sequential model, compile, and view summary\n",
    "'''\n",
    "model = Sequential()\n",
    "model.add(Conv2D(16, (3,3), activation='relu', input_shape=(772, 257, 1))) # input shape depends on shape of our spec\n",
    "model.add(Conv2D(16, (3,3), activation='relu'))\n",
    "model.add(Flatten())\n",
    "model.add(Dense(128, activation='relu'))\n",
    "model.add(Dense(1, activation='sigmoid'))\n",
    "model.compile('Adam', loss='BinaryCrossentropy', metrics=[tf.keras.metrics.Recall(),tf.keras.metrics.Precision()])\n",
    "model.summary()\n",
    "\n",
    "# train the model\n",
    "hist = model.fit(train, epochs=4, validation_data=test)\n",
    "'''"
   ]
  },
  {
   "cell_type": "markdown",
   "id": "5d867991",
   "metadata": {},
   "source": [
    "# Training Various Configurations of Model"
   ]
  },
  {
   "cell_type": "code",
   "execution_count": null,
   "id": "f20c0f1a",
   "metadata": {},
   "outputs": [],
   "source": [
    "# things we can test while training\n",
    "# optimizer type\n",
    "    # learning rate\n",
    "# dense layers (whether we use them or we dont)\n",
    "    # how many units per layer\n",
    "    # which activation functions\n",
    "    # kernel size\n",
    "    # stride\n",
    "    # decay/decay rate\n",
    "    \n",
    "# test various configs of model\n",
    "dense_layers = [0, 1, 2] # 1 worked well so we check 1 and 2\n",
    "layer_sizes = [8, 16, 32] # 16 worked well so we check 8 and 32\n",
    "conv_layers = [1, 2, 3] # 2 worked well so we check 1 and 3\n",
    "dense_sizes = [64, 128, 256] # 128 worked well so we check 64 and 256\n",
    "\n",
    "for dense_layer in dense_layers:\n",
    "    for layer_size in layer_sizes:\n",
    "        for conv_layer in conv_layers:\n",
    "            for dense_size in dense_sizes:\n",
    "                NAME = \"{}-conv-{}-nodes-{}-dense-{}\".format(conv_layer, layer_size, dense_layer, int(time.time()))\n",
    "                print(NAME)\n",
    "\n",
    "                # create layers\n",
    "                model = Sequential()\n",
    "                model.add(Conv2D(layer_size, (3,3), input_shape=(772, 257, 1)))\n",
    "                model.add(Activation(\"relu\"))\n",
    "                model.add(MaxPooling2D(pool_size=(2,2)))\n",
    "\n",
    "                for l in range(conv_layer-1):\n",
    "                    model.add(Conv2D(layer_size, (3,3)))\n",
    "                    model.add(Activation(\"relu\"))\n",
    "                    model.add(MaxPooling2D(pool_size=(2,2)))\n",
    "\n",
    "                model.add(Flatten())\n",
    "                for l in range(dense_layer):\n",
    "                    model.add(Dense(dense_size)) # dense layers should be different sizes (not same as conv layer sizes)\n",
    "                    model.add(Activation(\"relu\"))\n",
    "\n",
    "                # output layer\n",
    "                model.add(Dense(1))\n",
    "                model.add(Activation(\"sigmoid\"))\n",
    "\n",
    "                tensorboard = TensorBoard(log_dir='bad_mouth_logs/{}'.format(NAME))\n",
    "\n",
    "                model.compile('Adam', loss='BinaryCrossentropy', metrics=[tf.keras.metrics.Recall(),tf.keras.metrics.Precision()])\n",
    "\n",
    "                # tensorboard analysis\n",
    "                hist = model.fit(train, epochs=4, validation_data=test, callbacks = [tensorboard])"
   ]
  },
  {
   "cell_type": "markdown",
   "id": "b079aa3e",
   "metadata": {},
   "source": [
    "# Fit Model, View Loss, and KPI Plots"
   ]
  },
  {
   "cell_type": "code",
   "execution_count": 36,
   "id": "ea9ab3ef",
   "metadata": {},
   "outputs": [
    {
     "data": {
      "image/png": "[encoded data removed]",
      "text/plain": [
       "<Figure size 640x480 with 1 Axes>"
      ]
     },
     "metadata": {},
     "output_type": "display_data"
    }
   ],
   "source": [
    "# plot loss \n",
    "# mean error across samples for each epoch (runthrough entire dataset)\n",
    "plt.title('Loss')\n",
    "plt.plot(hist.history['loss'], 'r')\n",
    "plt.plot(hist.history['val_loss'], 'b')\n",
    "plt.show()"
   ]
  },
  {
   "cell_type": "code",
   "execution_count": 37,
   "id": "af389d79",
   "metadata": {},
   "outputs": [
    {
     "data": {
      "image/png": "[encoded data removed]",
      "text/plain": [
       "<Figure size 640x480 with 1 Axes>"
      ]
     },
     "metadata": {},
     "output_type": "display_data"
    }
   ],
   "source": [
    "# plot precision\n",
    "# the percent of positive predicitions that were correct (good and bad)\n",
    "plt.title('Precision')\n",
    "plt.plot(hist.history['precision'], 'r')\n",
    "plt.plot(hist.history['val_precision'], 'b')\n",
    "plt.show()"
   ]
  },
  {
   "cell_type": "code",
   "execution_count": 38,
   "id": "7798503d",
   "metadata": {},
   "outputs": [
    {
     "data": {
      "image/png": "[encoded data removed]",
      "text/plain": [
       "<Figure size 640x480 with 1 Axes>"
      ]
     },
     "metadata": {},
     "output_type": "display_data"
    }
   ],
   "source": [
    "# plot recall\n",
    "# the percentage of positive predicitions that were correct (only bad words)\n",
    "plt.title('Recall')\n",
    "plt.plot(hist.history['recall'], 'r')\n",
    "plt.plot(hist.history['val_recall'], 'b')\n",
    "plt.show()"
   ]
  },
  {
   "cell_type": "markdown",
   "id": "b95abea2",
   "metadata": {},
   "source": [
    "# Make a Prediction on a Single Clip"
   ]
  },
  {
   "cell_type": "code",
   "execution_count": 246,
   "id": "24b55413",
   "metadata": {},
   "outputs": [],
   "source": [
    "# get one batch and make a prediction\n",
    "X_test, y_test = test.as_numpy_iterator().next()"
   ]
  },
  {
   "cell_type": "code",
   "execution_count": 247,
   "id": "25642688",
   "metadata": {},
   "outputs": [
    {
     "name": "stdout",
     "output_type": "stream",
     "text": [
      "1/1 [==============================] - 0s 102ms/step\n"
     ]
    }
   ],
   "source": [
    "yhat = model.predict(X_test)"
   ]
  },
  {
   "cell_type": "code",
   "execution_count": 248,
   "id": "c065ab31",
   "metadata": {},
   "outputs": [
    {
     "data": {
      "text/plain": [
       "array([[2.7421536e-04],\n",
       "       [3.3446446e-09],\n",
       "       [1.0574768e-02],\n",
       "       [9.8515010e-01]], dtype=float32)"
      ]
     },
     "execution_count": 248,
     "metadata": {},
     "output_type": "execute_result"
    }
   ],
   "source": [
    "yhat"
   ]
  },
  {
   "cell_type": "code",
   "execution_count": 249,
   "id": "20f0d86c",
   "metadata": {},
   "outputs": [],
   "source": [
    "# Convert logits to classes\n",
    "yhat = [1 if prediction > 0.5 else 0 for prediction in yhat]"
   ]
  },
  {
   "cell_type": "code",
   "execution_count": 250,
   "id": "0c5678f7",
   "metadata": {},
   "outputs": [
    {
     "data": {
      "text/plain": [
       "[0, 0, 0, 1]"
      ]
     },
     "execution_count": 250,
     "metadata": {},
     "output_type": "execute_result"
    }
   ],
   "source": [
    "yhat"
   ]
  },
  {
   "cell_type": "code",
   "execution_count": 251,
   "id": "da660ae3",
   "metadata": {},
   "outputs": [
    {
     "data": {
      "text/plain": [
       "<tf.Tensor: shape=(), dtype=int32, numpy=1>"
      ]
     },
     "execution_count": 251,
     "metadata": {},
     "output_type": "execute_result"
    }
   ],
   "source": [
    "tf.math.reduce_sum(yhat)"
   ]
  },
  {
   "cell_type": "code",
   "execution_count": 252,
   "id": "7a34b549",
   "metadata": {},
   "outputs": [
    {
     "data": {
      "text/plain": [
       "<tf.Tensor: shape=(), dtype=float32, numpy=1.0>"
      ]
     },
     "execution_count": 252,
     "metadata": {},
     "output_type": "execute_result"
    }
   ],
   "source": [
    "tf.math.reduce_sum(y_test)"
   ]
  },
  {
   "cell_type": "code",
   "execution_count": 253,
   "id": "46568131",
   "metadata": {},
   "outputs": [
    {
     "data": {
      "text/plain": [
       "array([0, 0, 0, 1])"
      ]
     },
     "execution_count": 253,
     "metadata": {},
     "output_type": "execute_result"
    }
   ],
   "source": [
    "y_test.astype(int)"
   ]
  },
  {
   "cell_type": "markdown",
   "id": "6eee35a3",
   "metadata": {},
   "source": [
    "# Save the Model"
   ]
  },
  {
   "cell_type": "code",
   "execution_count": 221,
   "id": "f16908fc",
   "metadata": {},
   "outputs": [
    {
     "name": "stderr",
     "output_type": "stream",
     "text": [
      "WARNING:absl:Found untraced functions such as _jit_compiled_convolution_op, _jit_compiled_convolution_op, _update_step_xla while saving (showing 3 of 3). These functions will not be directly callable after loading.\n"
     ]
    },
    {
     "name": "stdout",
     "output_type": "stream",
     "text": [
      "INFO:tensorflow:Assets written to: bad_mouth.model\\assets\n"
     ]
    },
    {
     "name": "stderr",
     "output_type": "stream",
     "text": [
      "INFO:tensorflow:Assets written to: bad_mouth.model\\assets\n"
     ]
    }
   ],
   "source": [
    "model.save('bad_mouth.model')\n",
    "# load model\n",
    "# new_model = tf.keras.models.load_model('num_reader.model')"
   ]
  },
  {
   "cell_type": "markdown",
   "id": "e7fce157",
   "metadata": {},
   "source": [
    "# Convert to TF Lite"
   ]
  },
  {
   "cell_type": "code",
   "execution_count": null,
   "id": "7e0faa37",
   "metadata": {},
   "outputs": [
    {
     "name": "stderr",
     "output_type": "stream",
     "text": [
      "WARNING:absl:Found untraced functions such as _jit_compiled_convolution_op, _jit_compiled_convolution_op, _update_step_xla while saving (showing 3 of 3). These functions will not be directly callable after loading.\n"
     ]
    },
    {
     "name": "stdout",
     "output_type": "stream",
     "text": [
      "INFO:tensorflow:Assets written to: C:\\Users\\jreye\\AppData\\Local\\Temp\\tmprrod190b\\assets\n"
     ]
    },
    {
     "name": "stderr",
     "output_type": "stream",
     "text": [
      "INFO:tensorflow:Assets written to: C:\\Users\\jreye\\AppData\\Local\\Temp\\tmprrod190b\\assets\n"
     ]
    }
   ],
   "source": [
    "TF_LITE_MODEL_FILE_NAME = \"bad_mouth_lite.tflite\"\n",
    "tf_lite_converter = tf.lite.TFLiteConverter.from_keras_model(model)\n",
    "tflite_model = tf_lite_converter.convert()\n",
    "tflite_model_name = TF_LITE_MODEL_FILE_NAME\n",
    "open(tflite_model_name, \"wb\").write(tflite_model)"
   ]
  },
  {
   "cell_type": "code",
   "execution_count": null,
   "id": "380f9925",
   "metadata": {},
   "outputs": [],
   "source": [
    "# check input tensor shape\n",
    "convert_bytes(get_file_size(TF_LITE_MODEL_FILE_NAME), \"KB\")"
   ]
  }
 ],
 "metadata": {
  "kernelspec": {
   "display_name": "Python 3 (ipykernel)",
   "language": "python",
   "name": "python3"
  },
  "language_info": {
   "codemirror_mode": {
    "name": "ipython",
    "version": 3
   },
   "file_extension": ".py",
   "mimetype": "text/x-python",
   "name": "python",
   "nbconvert_exporter": "python",
   "pygments_lexer": "ipython3",
   "version": "3.9.13"
  }
 },
 "nbformat": 4,
 "nbformat_minor": 5
}
