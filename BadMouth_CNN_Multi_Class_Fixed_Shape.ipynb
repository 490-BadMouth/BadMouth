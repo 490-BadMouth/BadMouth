{
 "cells": [
  {
   "cell_type": "markdown",
   "id": "6a36deb6",
   "metadata": {
    "tags": []
   },
   "source": [
    "# Load Dependencies and Check GPU Status"
   ]
  },
  {
   "cell_type": "code",
   "execution_count": 151,
   "id": "424d92b0",
   "metadata": {},
   "outputs": [
    {
     "data": {
      "text/plain": [
       "[PhysicalDevice(name='/physical_device:CPU:0', device_type='CPU'),\n",
       " PhysicalDevice(name='/physical_device:GPU:0', device_type='GPU')]"
      ]
     },
     "execution_count": 151,
     "metadata": {},
     "output_type": "execute_result"
    }
   ],
   "source": [
    "import os\n",
    "from matplotlib import pyplot as plt\n",
    "import tensorflow as tf\n",
    "import tensorflow_io as tfio\n",
    "import numpy as np\n",
    "\n",
    "# check if GPU is recognized\n",
    "tf.config.list_physical_devices()"
   ]
  },
  {
   "cell_type": "code",
   "execution_count": 168,
   "id": "566efad2-4a90-4b66-9177-a1f3b209a2f6",
   "metadata": {},
   "outputs": [],
   "source": [
    "# Copyright 2019 Google LLC\n",
    "#\n",
    "# Licensed under the Apache License, Version 2.0 (the \"License\");\n",
    "# you may not use this file except in compliance with the License.\n",
    "# You may obtain a copy of the License at\n",
    "#\n",
    "#     https://www.apache.org/licenses/LICENSE-2.0\n",
    "#\n",
    "# Unless required by applicable law or agreed to in writing, software\n",
    "# distributed under the License is distributed on an \"AS IS\" BASIS,\n",
    "# WITHOUT WARRANTIES OR CONDITIONS OF ANY KIND, either express or implied.\n",
    "# See the License for the specific language governing permissions and\n",
    "# limitations under the License.\n",
    "\n",
    "\"\"\"Defines routines to compute mel spectrogram features from audio waveform.\"\"\"\n",
    "\n",
    "import numpy as np\n",
    "\n",
    "\n",
    "def frame(data, window_length, hop_length):\n",
    "  \"\"\"Convert array into a sequence of successive possibly overlapping frames.\n",
    "\n",
    "  An n-dimensional array of shape (num_samples, ...) is converted into an\n",
    "  (n+1)-D array of shape (num_frames, window_length, ...), where each frame\n",
    "  starts hop_length points after the preceding one.\n",
    "\n",
    "  This is accomplished using stride_tricks, so the original data is not\n",
    "  copied.  However, there is no zero-padding, so any incomplete frames at the\n",
    "  end are not included.\n",
    "\n",
    "  Args:\n",
    "    data: np.array of dimension N >= 1. (SIGNAL)\n",
    "    window_length: Number of samples in each frame. (FRAME LENGTH)\n",
    "    hop_length: Advance (in samples) between each window.   (NUMBER OF SAMPLES BETWEEN EACH FRAME)\n",
    "\n",
    "  Returns:\n",
    "    (N+1)-D np.array with as many rows as there are complete frames that can be\n",
    "    extracted.\n",
    "  \"\"\"\n",
    "  # frame(data, 1000, 16)\n",
    "  # data can be 1 dimensional (mono) or 2 dimensional (stereo)\n",
    "  # if data is 16000 samples long, window_len is 1000, stereo, then the shape would be (16, 1000, 2)\n",
    "  # data.strides output: (num_channels * num_bytes, num_bytes) --> (8, 4)\n",
    "  # data.stides[0]: num_channels in data\n",
    "  # stides: (128, 8)\n",
    "  num_samples = data.shape[0] # get length of signal (num samples)\n",
    "  num_frames = 1 + int(np.floor((num_samples - window_length) / hop_length)) # frame count equation \n",
    "  shape = (num_frames, window_length) + data.shape[1:] # (number of frames, length of each frame), + num of channels(1 or 2)\n",
    "  strides = (data.strides[0] * hop_length,) + data.strides # byte offset to move in each direction \n",
    "  return np.lib.stride_tricks.as_strided(data, shape=shape, strides=strides) # extract frames without copying\n",
    "\n",
    "\n",
    "def periodic_hann(window_length):\n",
    "  \"\"\"Calculate a \"periodic\" Hann window.\n",
    "\n",
    "  The classic Hann window is defined as a raised cosine that starts and\n",
    "  ends on zero, and where every value appears twice, except the middle\n",
    "  point for an odd-length window.  Matlab calls this a \"symmetric\" window\n",
    "  and np.hanning() returns it.  However, for Fourier analysis, this\n",
    "  actually represents just over one cycle of a period N-1 cosine, and\n",
    "  thus is not compactly expressed on a length-N Fourier basis.  Instead,\n",
    "  it's better to use a raised cosine that ends just before the final\n",
    "  zero value - i.e. a complete cycle of a period-N cosine.  Matlab\n",
    "  calls this a \"periodic\" window. This routine calculates it.\n",
    "\n",
    "  Args:\n",
    "    window_length: The number of points in the returned window.\n",
    "\n",
    "  Returns:\n",
    "    A 1D np.array containing the periodic hann window.\n",
    "  \"\"\"\n",
    "  return 0.5 - (0.5 * np.cos(2 * np.pi / window_length *\n",
    "                             np.arange(window_length)))\n",
    "\n",
    "\n",
    "def stft_magnitude(signal, fft_length,\n",
    "                   hop_length=None,\n",
    "                   window_length=None):\n",
    "  \"\"\"Calculate the short-time Fourier transform magnitude.\n",
    "\n",
    "  Args:\n",
    "    signal: 1D np.array of the input time-domain signal.\n",
    "    fft_length: Size of the FFT to apply.\n",
    "    hop_length: Advance (in samples) between each frame passed to FFT.\n",
    "    window_length: Length of each block of samples to pass to FFT.\n",
    "\n",
    "  Returns:\n",
    "    2D np.array where each row contains the magnitudes of the fft_length/2+1\n",
    "    unique values of the FFT for the corresponding frame of input samples.\n",
    "  \"\"\"\n",
    "  frames = frame(signal, window_length, hop_length)\n",
    "  # Apply frame window to each frame. We use a periodic Hann (cosine of period\n",
    "  # window_length) instead of the symmetric Hann of np.hanning (period\n",
    "  # window_length-1).\n",
    "  window = periodic_hann(window_length)\n",
    "  windowed_frames = frames * window\n",
    "  return np.abs(np.fft.rfft(windowed_frames, int(fft_length)))\n",
    "\n",
    "\n",
    "# Mel spectrum constants and functions.\n",
    "_MEL_BREAK_FREQUENCY_HERTZ = 700.0\n",
    "_MEL_HIGH_FREQUENCY_Q = 1127.0\n",
    "\n",
    "\n",
    "def hertz_to_mel(frequencies_hertz):\n",
    "  \"\"\"Convert frequencies to mel scale using HTK formula.\n",
    "\n",
    "  Args:\n",
    "    frequencies_hertz: Scalar or np.array of frequencies in hertz.\n",
    "\n",
    "  Returns:\n",
    "    Object of same size as frequencies_hertz containing corresponding values\n",
    "    on the mel scale.\n",
    "  \"\"\"\n",
    "  return _MEL_HIGH_FREQUENCY_Q * np.log(\n",
    "      1.0 + (frequencies_hertz / _MEL_BREAK_FREQUENCY_HERTZ))\n",
    "\n",
    "\n",
    "def spectrogram_to_mel_matrix(num_mel_bins=20,\n",
    "                              num_spectrogram_bins=129,\n",
    "                              audio_sample_rate=8000,\n",
    "                              lower_edge_hertz=125.0,\n",
    "                              upper_edge_hertz=3800.0):\n",
    "  \"\"\"Return a matrix that can post-multiply spectrogram rows to make mel.\n",
    "\n",
    "  Returns a np.array matrix A that can be used to post-multiply a matrix S of\n",
    "  spectrogram values (STFT magnitudes) arranged as frames x bins to generate a\n",
    "  \"mel spectrogram\" M of frames x num_mel_bins.  M = S A.\n",
    "\n",
    "  The classic HTK algorithm exploits the complementarity of adjacent mel bands\n",
    "  to multiply each FFT bin by only one mel weight, then add it, with positive\n",
    "  and negative signs, to the two adjacent mel bands to which that bin\n",
    "  contributes.  Here, by expressing this operation as a matrix multiply, we go\n",
    "  from num_fft multiplies per frame (plus around 2*num_fft adds) to around\n",
    "  num_fft^2 multiplies and adds.  However, because these are all presumably\n",
    "  accomplished in a single call to np.dot(), it's not clear which approach is\n",
    "  faster in Python.  The matrix multiplication has the attraction of being more\n",
    "  general and flexible, and much easier to read.\n",
    "\n",
    "  Args:\n",
    "    num_mel_bins: How many bands in the resulting mel spectrum.  This is\n",
    "      the number of columns in the output matrix.\n",
    "    num_spectrogram_bins: How many bins there are in the source spectrogram\n",
    "      data, which is understood to be fft_size/2 + 1, i.e. the spectrogram\n",
    "      only contains the nonredundant FFT bins.\n",
    "    audio_sample_rate: Samples per second of the audio at the input to the\n",
    "      spectrogram. We need this to figure out the actual frequencies for\n",
    "      each spectrogram bin, which dictates how they are mapped into mel.\n",
    "    lower_edge_hertz: Lower bound on the frequencies to be included in the mel\n",
    "      spectrum.  This corresponds to the lower edge of the lowest triangular\n",
    "      band.\n",
    "    upper_edge_hertz: The desired top edge of the highest frequency band.\n",
    "\n",
    "  Returns:\n",
    "    An np.array with shape (num_spectrogram_bins, num_mel_bins).\n",
    "\n",
    "  Raises:\n",
    "    ValueError: if frequency edges are incorrectly ordered or out of range.\n",
    "  \"\"\"\n",
    "  nyquist_hertz = audio_sample_rate / 2.\n",
    "  if lower_edge_hertz < 0.0:\n",
    "    raise ValueError(\"lower_edge_hertz %.1f must be >= 0\" % lower_edge_hertz)\n",
    "  if lower_edge_hertz >= upper_edge_hertz:\n",
    "    raise ValueError(\"lower_edge_hertz %.1f >= upper_edge_hertz %.1f\" %\n",
    "                     (lower_edge_hertz, upper_edge_hertz))\n",
    "  if upper_edge_hertz > nyquist_hertz:\n",
    "    raise ValueError(\"upper_edge_hertz %.1f is greater than Nyquist %.1f\" %\n",
    "                     (upper_edge_hertz, nyquist_hertz))\n",
    "  spectrogram_bins_hertz = np.linspace(0.0, nyquist_hertz, num_spectrogram_bins)\n",
    "  spectrogram_bins_mel = hertz_to_mel(spectrogram_bins_hertz)\n",
    "  # The i'th mel band (starting from i=1) has center frequency\n",
    "  # band_edges_mel[i], lower edge band_edges_mel[i-1], and higher edge\n",
    "  # band_edges_mel[i+1].  Thus, we need num_mel_bins + 2 values in\n",
    "  # the band_edges_mel arrays.\n",
    "  band_edges_mel = np.linspace(hertz_to_mel(lower_edge_hertz),\n",
    "                               hertz_to_mel(upper_edge_hertz), num_mel_bins + 2)\n",
    "  # Matrix to post-multiply feature arrays whose rows are num_spectrogram_bins\n",
    "  # of spectrogram values.\n",
    "  mel_weights_matrix = np.empty((num_spectrogram_bins, num_mel_bins))\n",
    "  for i in range(num_mel_bins):\n",
    "    lower_edge_mel, center_mel, upper_edge_mel = band_edges_mel[i:i + 3]\n",
    "    # Calculate lower and upper slopes for every spectrogram bin.\n",
    "    # Line segments are linear in the *mel* domain, not hertz.\n",
    "    lower_slope = ((spectrogram_bins_mel - lower_edge_mel) /\n",
    "                   (center_mel - lower_edge_mel))\n",
    "    upper_slope = ((upper_edge_mel - spectrogram_bins_mel) /\n",
    "                   (upper_edge_mel - center_mel))\n",
    "    # .. then intersect them with each other and zero.\n",
    "    mel_weights_matrix[:, i] = np.maximum(0.0, np.minimum(lower_slope,\n",
    "                                                          upper_slope))\n",
    "  # HTK excludes the spectrogram DC bin; make sure it always gets a zero\n",
    "  # coefficient.\n",
    "  mel_weights_matrix[0, :] = 0.0\n",
    "  return mel_weights_matrix\n",
    "\n",
    "\n",
    "def log_mel_spectrogram(data,\n",
    "                        audio_sample_rate=8000,\n",
    "                        log_offset=0.0,\n",
    "                        window_length_secs=0.025,\n",
    "                        hop_length_secs=0.010,\n",
    "                        **kwargs):\n",
    "  \"\"\"Convert waveform to a log magnitude mel-frequency spectrogram.\n",
    "\n",
    "  Args:\n",
    "    data: 1D np.array of waveform data.\n",
    "    audio_sample_rate: The sampling rate of data.\n",
    "    log_offset: Add this to values when taking log to avoid -Infs.\n",
    "    window_length_secs: Duration of each window to analyze.\n",
    "    hop_length_secs: Advance between successive analysis windows.\n",
    "    **kwargs: Additional arguments to pass to spectrogram_to_mel_matrix.\n",
    "\n",
    "  Returns:\n",
    "    2D np.array of (num_frames, num_mel_bins) consisting of log mel filterbank\n",
    "    magnitudes for successive frames.\n",
    "  \"\"\"\n",
    "  window_length_samples = int(round(audio_sample_rate * window_length_secs))\n",
    "  hop_length_samples = int(round(audio_sample_rate * hop_length_secs))\n",
    "  fft_length = 2 ** int(np.ceil(np.log(window_length_samples) / np.log(2.0)))\n",
    "  spectrogram = stft_magnitude(\n",
    "      data,\n",
    "      fft_length=fft_length,\n",
    "      hop_length=hop_length_samples,\n",
    "      window_length=window_length_samples)\n",
    "  mel_spectrogram = np.dot(spectrogram, spectrogram_to_mel_matrix(\n",
    "      num_spectrogram_bins=spectrogram.shape[1],\n",
    "      audio_sample_rate=audio_sample_rate, **kwargs))\n",
    "  return np.log(mel_spectrogram + log_offset)\n"
   ]
  },
  {
   "cell_type": "markdown",
   "id": "d9367290",
   "metadata": {},
   "source": [
    "# Create TensorFlow Dataset"
   ]
  },
  {
   "cell_type": "code",
   "execution_count": 195,
   "id": "7e3d4025",
   "metadata": {},
   "outputs": [
    {
     "name": "stdout",
     "output_type": "stream",
     "text": [
      "Size of not_bad dataset: 1850\n",
      "Size of fuck dataset   : 1438\n",
      "Size of shit dataset   : 1236\n"
     ]
    }
   ],
   "source": [
    "# define paths to positive and negative data\n",
    "NOT_BAD = os.path.join(\"C:/Users/jreye/ML_DATA/NotBadWords/NotBad_comp\") \n",
    "FUCK = os.path.join(\"C:/Users/jreye/ML_DATA/BadWords/fuck_comp_all_44k\") \n",
    "SHIT = os.path.join(\"C:/Users/jreye/ML_DATA/BadWords/shit_comp_all\") \n",
    "\n",
    "# Create multi-classification datasets\n",
    "not_bad = tf.data.Dataset.list_files(NOT_BAD+'\\*.wav').map(lambda x: (x, tf.constant([1, 0, 0], dtype=tf.float32))) \n",
    "fuck = tf.data.Dataset.list_files(FUCK+'\\*.wav').map(lambda x: (x, tf.constant([0, 1, 0], dtype=tf.float32))) \n",
    "shit = tf.data.Dataset.list_files(SHIT+'\\*.wav').map(lambda x: (x, tf.constant([0, 0, 1], dtype=tf.float32))) \n",
    "\n",
    "data = not_bad.concatenate(fuck)\n",
    "data = data.concatenate(shit)\n",
    "\n",
    "print(\"Size of not_bad dataset: \" + repr(len(not_bad)))\n",
    "print(\"Size of fuck dataset   : \" + repr(len(fuck)))\n",
    "print(\"Size of shit dataset   : \" + repr(len(shit)))\n",
    "\n",
    "# for debugging\n",
    "#list(fuck.as_numpy_iterator())"
   ]
  },
  {
   "cell_type": "markdown",
   "id": "163c0f13",
   "metadata": {},
   "source": [
    "# Build Preprocessing Function to Convert to Spectrogram"
   ]
  },
  {
   "cell_type": "code",
   "execution_count": 196,
   "id": "579680e7-f175-4aa1-a25c-69074e925dfd",
   "metadata": {},
   "outputs": [],
   "source": [
    "def load_wav(file_path):\n",
    "    file_contents = tf.io.read_file(file_path)\n",
    "    audio, sample_rate = tf.audio.decode_wav(file_contents, desired_channels=1)\n",
    "    \n",
    "    # Convert to mono if the audio has more than one channel\n",
    "    if audio.shape[-1] > 1:\n",
    "        audio = tf.reduce_mean(audio, axis=-1, keepdims=True)\n",
    "        \n",
    "    audio = tf.squeeze(audio, axis=-1) # remove trailing axis\n",
    "    sample_rate = tf.cast(sample_rate, dtype=tf.int64)\n",
    "    # Goes from 44100Hz to 16000hz - amplitude of the audio signal\n",
    "    audio = tfio.audio.resample(audio, rate_in=sample_rate, rate_out=16000)\n",
    "    return audio\n",
    "\n",
    "\n",
    "\n",
    "\n",
    "\n",
    "\n",
    "\n",
    "\n",
    "def pad_spectrogram(spectrogram, target_shape):\n",
    "    # Calculate the required padding\n",
    "    padding = [[0, target_shape[0] - spectrogram.shape[0]], [0, 0]]\n",
    "    \n",
    "    # Apply the padding\n",
    "    padded_spectrogram = tf.pad(spectrogram, padding, mode='CONSTANT', constant_values=0)\n",
    "    \n",
    "    return padded_spectrogram"
   ]
  },
  {
   "cell_type": "code",
   "execution_count": 197,
   "id": "aaee5299",
   "metadata": {},
   "outputs": [],
   "source": [
    "def preprocess(file_path, label):\n",
    "    # WORKING CODE\n",
    "    audio = load_wav(file_path)\n",
    "\n",
    "    # Parameters for the mel spectrogram\n",
    "    sample_rate = 16000\n",
    "    num_mel_bins = 32\n",
    "    lower_edge_hertz = 60.0\n",
    "    upper_edge_hertz = 3800.0\n",
    "    window_length_secs = 0.025\n",
    "    hop_length_secs = 0.010\n",
    "    log_offset = 0.001\n",
    "\n",
    "    # Convert the audio tensor to a NumPy array\n",
    "    audio_np = audio.numpy()\n",
    "\n",
    "    # Compute the log mel spectrogram\n",
    "    test_spectrogram = 30 * log_mel_spectrogram(\n",
    "        audio_np,\n",
    "        audio_sample_rate=sample_rate,\n",
    "        log_offset=log_offset,\n",
    "        window_length_secs=window_length_secs,\n",
    "        hop_length_secs=hop_length_secs,\n",
    "        num_mel_bins=num_mel_bins,\n",
    "        lower_edge_hertz=lower_edge_hertz,\n",
    "        upper_edge_hertz=upper_edge_hertz) - np.log(1e-3)\n",
    "    \n",
    "    test_spectrogram = tf.cast(test_spectrogram, tf.float32)  # Cast to float32\n",
    "    \n",
    "    target_shape = (198, 32)\n",
    "\n",
    "    # Pad the spectrogram\n",
    "    padded_spectrogram = pad_spectrogram(test_spectrogram, target_shape)\n",
    "\n",
    "    return padded_spectrogram, label\n"
   ]
  },
  {
   "cell_type": "code",
   "execution_count": 198,
   "id": "e33570be",
   "metadata": {},
   "outputs": [
    {
     "name": "stdout",
     "output_type": "stream",
     "text": [
      "Selected file: C:\\Users\\jreye\\ML_DATA\\BadWords\\fuck_comp_all_44k\\Recording #71.wav\n",
      "(198, 32)\n",
      "[0. 1. 0.]\n"
     ]
    },
    {
     "data": {
      "image/png": "[encoded data removed]",
      "text/plain": [
       "<Figure size 3000x2000 with 1 Axes>"
      ]
     },
     "metadata": {},
     "output_type": "display_data"
    }
   ],
   "source": [
    "filepath, label = data.shuffle(buffer_size=10000).as_numpy_iterator().next()\n",
    "padded_spectrogram, label = preprocess(filepath, label)\n",
    "\n",
    "# Convert the filepath tensor to a string\n",
    "filename_str = filepath.decode('utf-8')\n",
    "\n",
    "# Print the file name\n",
    "print(f\"Selected file: {filename_str}\")\n",
    "\n",
    "print(padded_spectrogram.shape)\n",
    "print(label)\n",
    "plt.figure(figsize=(30,20))\n",
    "plt.imshow(tf.transpose(padded_spectrogram))\n",
    "plt.show() "
   ]
  },
  {
   "cell_type": "markdown",
   "id": "88ae631b",
   "metadata": {},
   "source": [
    "# Create Training and Testing Partitions"
   ]
  },
  {
   "cell_type": "code",
   "execution_count": 199,
   "id": "98148071",
   "metadata": {},
   "outputs": [
    {
     "data": {
      "text/plain": [
       "4524"
      ]
     },
     "execution_count": 199,
     "metadata": {},
     "output_type": "execute_result"
    }
   ],
   "source": [
    "len(data)"
   ]
  },
  {
   "cell_type": "code",
   "execution_count": 200,
   "id": "2ba262a8",
   "metadata": {},
   "outputs": [],
   "source": [
    "def preprocess_py_function(file_path, label):\n",
    "    file_path, label = tf.py_function(preprocess, [file_path, label], [tf.float32, tf.float32])\n",
    "    file_path.set_shape((198, 32))\n",
    "    file_path = tf.cast(file_path, tf.float32)  # Cast to float32\n",
    "    label.set_shape((3,))  # Set shape to (3,)\n",
    "\n",
    "    spectrogram_expanded = file_path  # Remove the extra dimension\n",
    "    label_expanded = label  # Remove the extra dimension\n",
    "\n",
    "    return spectrogram_expanded, label_expanded\n",
    "\n",
    "\n",
    "\n",
    "\n",
    "data = data.map(preprocess_py_function)\n",
    "data = data.cache()\n",
    "data = data.shuffle(buffer_size=5000)\n",
    "data = data.batch(16)\n",
    "data = data.prefetch(16)"
   ]
  },
  {
   "cell_type": "code",
   "execution_count": 201,
   "id": "4a13ace7",
   "metadata": {},
   "outputs": [
    {
     "data": {
      "text/plain": [
       "283"
      ]
     },
     "execution_count": 201,
     "metadata": {},
     "output_type": "execute_result"
    }
   ],
   "source": [
    "len(data)"
   ]
  },
  {
   "cell_type": "code",
   "execution_count": 202,
   "id": "b56b9764-979f-44f6-ba56-8b18740cb32e",
   "metadata": {},
   "outputs": [
    {
     "data": {
      "text/plain": [
       "198.1"
      ]
     },
     "execution_count": 202,
     "metadata": {},
     "output_type": "execute_result"
    }
   ],
   "source": [
    "len(data)*.7"
   ]
  },
  {
   "cell_type": "code",
   "execution_count": 203,
   "id": "72ef358f-6183-465f-b4d4-efcd5942959e",
   "metadata": {},
   "outputs": [
    {
     "data": {
      "text/plain": [
       "84.9"
      ]
     },
     "execution_count": 203,
     "metadata": {},
     "output_type": "execute_result"
    }
   ],
   "source": [
    "len(data) - len(data)*.7"
   ]
  },
  {
   "cell_type": "code",
   "execution_count": 204,
   "id": "00e386cd",
   "metadata": {},
   "outputs": [],
   "source": [
    "# split into training and testing partitions\n",
    "train = data.take(198) # 70 % goes to train set\n",
    "test = data.skip(198).take(85) # 30 % goes to test set"
   ]
  },
  {
   "cell_type": "code",
   "execution_count": 205,
   "id": "7a4803a2-fac6-4918-bba7-3c3fa2949542",
   "metadata": {},
   "outputs": [],
   "source": [
    "# test one batch\n",
    "samples, labels = train.as_numpy_iterator().next()"
   ]
  },
  {
   "cell_type": "code",
   "execution_count": 206,
   "id": "9cb25426",
   "metadata": {},
   "outputs": [
    {
     "data": {
      "text/plain": [
       "(16, 198, 32)"
      ]
     },
     "execution_count": 206,
     "metadata": {},
     "output_type": "execute_result"
    }
   ],
   "source": [
    "samples.shape"
   ]
  },
  {
   "cell_type": "code",
   "execution_count": 207,
   "id": "fa8d17bd-70a0-4204-a7c8-f21bd00de0f2",
   "metadata": {},
   "outputs": [
    {
     "data": {
      "text/plain": [
       "array([[0., 0., 1.],\n",
       "       [1., 0., 0.],\n",
       "       [0., 0., 1.],\n",
       "       [0., 0., 1.],\n",
       "       [1., 0., 0.],\n",
       "       [1., 0., 0.],\n",
       "       [0., 1., 0.],\n",
       "       [1., 0., 0.],\n",
       "       [0., 1., 0.],\n",
       "       [0., 1., 0.],\n",
       "       [1., 0., 0.],\n",
       "       [1., 0., 0.],\n",
       "       [1., 0., 0.],\n",
       "       [1., 0., 0.],\n",
       "       [1., 0., 0.],\n",
       "       [1., 0., 0.]], dtype=float32)"
      ]
     },
     "execution_count": 207,
     "metadata": {},
     "output_type": "execute_result"
    }
   ],
   "source": [
    "labels"
   ]
  },
  {
   "cell_type": "markdown",
   "id": "f0b6c760",
   "metadata": {},
   "source": [
    "# Build Deep Learning Model"
   ]
  },
  {
   "cell_type": "code",
   "execution_count": 208,
   "id": "f7a673f6",
   "metadata": {},
   "outputs": [],
   "source": [
    "# load Keras Model dependencies\n",
    "from tensorflow.keras.models import Sequential\n",
    "from tensorflow.keras.layers import Conv2D, Dense, Flatten, MaxPooling2D, Activation, Dropout, LayerNormalization, BatchNormalization, Input\n",
    "from tensorflow.keras.callbacks import TensorBoard # to view statistics\n",
    "from tensorflow.keras.optimizers import SGD, Adam\n",
    "from tensorflow.keras.metrics import CategoricalAccuracy, Recall, Precision\n",
    "\n",
    "import time"
   ]
  },
  {
   "cell_type": "markdown",
   "id": "40d5012e",
   "metadata": {
    "tags": []
   },
   "source": [
    "# Training Various Configurations of Model"
   ]
  },
  {
   "cell_type": "code",
   "execution_count": 277,
   "id": "813523b3-12be-4191-9e8a-fd034c7febe8",
   "metadata": {},
   "outputs": [
    {
     "name": "stdout",
     "output_type": "stream",
     "text": [
      "4-conv-64-nodes-0-dense-1682567736\n",
      "Epoch 1/7\n",
      "198/198 [==============================] - 3s 10ms/step - loss: 0.3994 - recall_20: 0.8049 - precision_20: 0.8511 - categorical_accuracy: 0.8283 - val_loss: 0.2307 - val_recall_20: 0.8990 - val_precision_20: 0.9117 - val_categorical_accuracy: 0.9056\n",
      "Epoch 2/7\n",
      "198/198 [==============================] - 2s 9ms/step - loss: 0.1660 - recall_20: 0.9290 - precision_20: 0.9358 - categorical_accuracy: 0.9321 - val_loss: 0.1111 - val_recall_20: 0.9602 - val_precision_20: 0.9652 - val_categorical_accuracy: 0.9617\n",
      "Epoch 3/7\n",
      "198/198 [==============================] - 2s 9ms/step - loss: 0.1053 - recall_20: 0.9586 - precision_20: 0.9617 - categorical_accuracy: 0.9605 - val_loss: 0.0596 - val_recall_20: 0.9742 - val_precision_20: 0.9742 - val_categorical_accuracy: 0.9742\n",
      "Epoch 4/7\n",
      "198/198 [==============================] - 2s 9ms/step - loss: 0.0980 - recall_20: 0.9624 - precision_20: 0.9646 - categorical_accuracy: 0.9637 - val_loss: 0.1112 - val_recall_20: 0.9565 - val_precision_20: 0.9615 - val_categorical_accuracy: 0.9587\n",
      "Epoch 5/7\n",
      "198/198 [==============================] - 2s 9ms/step - loss: 0.0804 - recall_20: 0.9722 - precision_20: 0.9741 - categorical_accuracy: 0.9738 - val_loss: 0.0453 - val_recall_20: 0.9838 - val_precision_20: 0.9852 - val_categorical_accuracy: 0.9845\n",
      "Epoch 6/7\n",
      "198/198 [==============================] - 2s 8ms/step - loss: 0.0645 - recall_20: 0.9754 - precision_20: 0.9772 - categorical_accuracy: 0.9760 - val_loss: 0.0264 - val_recall_20: 0.9904 - val_precision_20: 0.9919 - val_categorical_accuracy: 0.9919\n",
      "Epoch 7/7\n",
      "198/198 [==============================] - 2s 9ms/step - loss: 0.0487 - recall_20: 0.9823 - precision_20: 0.9826 - categorical_accuracy: 0.9823 - val_loss: 0.0286 - val_recall_20: 0.9897 - val_precision_20: 0.9897 - val_categorical_accuracy: 0.9897\n"
     ]
    }
   ],
   "source": [
    "dense_layers = [0]\n",
    "layer_sizes = [64]\n",
    "conv_layers = [4]\n",
    "dense_size = 128\n",
    "epochs_num = 7\n",
    "batch_size = 16\n",
    "\n",
    "input_shape = (198, 32)  # Update input_shape\n",
    "\n",
    "for dense_layer in dense_layers:\n",
    "    for layer_size in layer_sizes:\n",
    "        for conv_layer in conv_layers:\n",
    "            NAME = \"{}-conv-{}-nodes-{}-dense-{}\".format(conv_layer, layer_size, dense_layer, int(time.time()))\n",
    "            print(NAME)\n",
    "\n",
    "            # create layers\n",
    "            model = Sequential()\n",
    "            model.add(Conv1D(32, 3, input_shape=input_shape, padding='same'))  # Update to Conv1D with 32 filters\n",
    "            model.add(LayerNormalization())\n",
    "            model.add(Activation(\"relu\"))\n",
    "            model.add(MaxPooling1D(pool_size=2))  # Update to MaxPooling1D\n",
    "\n",
    "            for l in range(conv_layer - 1):\n",
    "                model.add(Conv1D(layer_size, 3, padding='same'))  # Update to Conv1D\n",
    "                model.add(LayerNormalization())\n",
    "                model.add(Activation(\"relu\"))\n",
    "                model.add(Dropout(0.2))\n",
    "                if l < conv_layer - 2:\n",
    "                    model.add(MaxPooling1D(pool_size=2))  # Update to MaxPooling1D\n",
    "\n",
    "            model.add(Flatten())\n",
    "            for l in range(dense_layer):\n",
    "                model.add(Dense(dense_size))\n",
    "                model.add(Activation(\"relu\"))\n",
    "\n",
    "            # output layer\n",
    "            model.add(Dense(3))\n",
    "            model.add(Activation(\"softmax\"))\n",
    "\n",
    "            tensorboard = TensorBoard(log_dir='bad_mouth_logs/{}'.format(NAME))\n",
    "\n",
    "            model.compile(optimizer='Adam',\n",
    "                          loss='CategoricalCrossentropy',\n",
    "                          metrics=[Recall(), Precision(), CategoricalAccuracy()])\n",
    "\n",
    "            # tensorboard analysis\n",
    "            hist = model.fit(train, epochs=epochs_num, validation_data=test, callbacks=[tensorboard], batch_size=batch_size)\n"
   ]
  },
  {
   "cell_type": "code",
   "execution_count": 278,
   "id": "5ebc6182-2d65-4d9b-95bf-f9cda7aacf9b",
   "metadata": {},
   "outputs": [
    {
     "name": "stdout",
     "output_type": "stream",
     "text": [
      "85/85 [==============================] - 0s 4ms/step - loss: 0.0226 - recall_20: 0.9926 - precision_20: 0.9926 - categorical_accuracy: 0.9926\n"
     ]
    },
    {
     "data": {
      "text/plain": [
       "[0.02260872907936573, 0.99262535572052, 0.99262535572052, 0.99262535572052]"
      ]
     },
     "execution_count": 278,
     "metadata": {},
     "output_type": "execute_result"
    }
   ],
   "source": [
    "model.evaluate(test)"
   ]
  },
  {
   "cell_type": "code",
   "execution_count": 279,
   "id": "e197d151-a49a-4d7b-8812-77f799754667",
   "metadata": {},
   "outputs": [
    {
     "name": "stdout",
     "output_type": "stream",
     "text": [
      "Model: \"sequential_28\"\n",
      "_________________________________________________________________\n",
      " Layer (type)                Output Shape              Param #   \n",
      "=================================================================\n",
      " conv1d_40 (Conv1D)          (None, 198, 32)           3104      \n",
      "                                                                 \n",
      " layer_normalization_91 (Lay  (None, 198, 32)          64        \n",
      " erNormalization)                                                \n",
      "                                                                 \n",
      " activation_111 (Activation)  (None, 198, 32)          0         \n",
      "                                                                 \n",
      " max_pooling1d_31 (MaxPoolin  (None, 99, 32)           0         \n",
      " g1D)                                                            \n",
      "                                                                 \n",
      " conv1d_41 (Conv1D)          (None, 99, 64)            6208      \n",
      "                                                                 \n",
      " layer_normalization_92 (Lay  (None, 99, 64)           128       \n",
      " erNormalization)                                                \n",
      "                                                                 \n",
      " activation_112 (Activation)  (None, 99, 64)           0         \n",
      "                                                                 \n",
      " dropout_6 (Dropout)         (None, 99, 64)            0         \n",
      "                                                                 \n",
      " max_pooling1d_32 (MaxPoolin  (None, 49, 64)           0         \n",
      " g1D)                                                            \n",
      "                                                                 \n",
      " conv1d_42 (Conv1D)          (None, 49, 64)            12352     \n",
      "                                                                 \n",
      " layer_normalization_93 (Lay  (None, 49, 64)           128       \n",
      " erNormalization)                                                \n",
      "                                                                 \n",
      " activation_113 (Activation)  (None, 49, 64)           0         \n",
      "                                                                 \n",
      " dropout_7 (Dropout)         (None, 49, 64)            0         \n",
      "                                                                 \n",
      " max_pooling1d_33 (MaxPoolin  (None, 24, 64)           0         \n",
      " g1D)                                                            \n",
      "                                                                 \n",
      " conv1d_43 (Conv1D)          (None, 24, 64)            12352     \n",
      "                                                                 \n",
      " layer_normalization_94 (Lay  (None, 24, 64)           128       \n",
      " erNormalization)                                                \n",
      "                                                                 \n",
      " activation_114 (Activation)  (None, 24, 64)           0         \n",
      "                                                                 \n",
      " dropout_8 (Dropout)         (None, 24, 64)            0         \n",
      "                                                                 \n",
      " flatten_21 (Flatten)        (None, 1536)              0         \n",
      "                                                                 \n",
      " dense_21 (Dense)            (None, 3)                 4611      \n",
      "                                                                 \n",
      " activation_115 (Activation)  (None, 3)                0         \n",
      "                                                                 \n",
      "=================================================================\n",
      "Total params: 39,075\n",
      "Trainable params: 39,075\n",
      "Non-trainable params: 0\n",
      "_________________________________________________________________\n"
     ]
    }
   ],
   "source": [
    "model.summary()"
   ]
  },
  {
   "cell_type": "code",
   "execution_count": 280,
   "id": "74a4f376-419d-429d-8798-3cdd767681e4",
   "metadata": {},
   "outputs": [
    {
     "data": {
      "image/png": "[encoded data removed]",
      "text/plain": [
       "<Figure size 640x480 with 1 Axes>"
      ]
     },
     "metadata": {},
     "output_type": "display_data"
    }
   ],
   "source": [
    "# plot loss \n",
    "# mean error across samples for each epoch (runthrough entire dataset)\n",
    "plt.title('Loss')\n",
    "plt.plot(hist.history['loss'], 'r')\n",
    "plt.plot(hist.history['val_loss'], 'b')\n",
    "plt.legend([\"Loss\", \"Val_Loss\"])\n",
    "plt.show()"
   ]
  },
  {
   "cell_type": "code",
   "execution_count": 281,
   "id": "72885bcf-129f-464d-879f-a4c32c3a155d",
   "metadata": {},
   "outputs": [
    {
     "data": {
      "image/png": "[encoded data removed]",
      "text/plain": [
       "<Figure size 640x480 with 1 Axes>"
      ]
     },
     "metadata": {},
     "output_type": "display_data"
    }
   ],
   "source": [
    "# plot Accuracy \n",
    "# mean error across samples for each epoch (runthrough entire dataset)\n",
    "plt.title('Accuracy')\n",
    "plt.plot(hist.history['categorical_accuracy'], 'r')\n",
    "plt.plot(hist.history['val_categorical_accuracy'], 'b')\n",
    "plt.legend([\"Accuracy\", \"Val_Accuracy\"])\n",
    "plt.show()"
   ]
  },
  {
   "cell_type": "code",
   "execution_count": 283,
   "id": "77b52501-104d-4559-9558-c4a0c4abb40f",
   "metadata": {},
   "outputs": [
    {
     "data": {
      "image/png": "[encoded data removed]",
      "text/plain": [
       "<Figure size 640x480 with 1 Axes>"
      ]
     },
     "metadata": {},
     "output_type": "display_data"
    }
   ],
   "source": [
    "# plot precision\n",
    "# the percent of positive predicitions that were correct (good and bad)\n",
    "plt.title('Precision')\n",
    "plt.plot(hist.history['precision_20'], 'r')\n",
    "plt.plot(hist.history['val_precision_20'], 'b')\n",
    "plt.legend([\"Precision\", \"Val_Precision\"])\n",
    "plt.show()"
   ]
  },
  {
   "cell_type": "code",
   "execution_count": 285,
   "id": "1687b9bf-6de4-4eb2-9e5f-532fbb909d4a",
   "metadata": {},
   "outputs": [
    {
     "data": {
      "image/png": "[encoded data removed]",
      "text/plain": [
       "<Figure size 640x480 with 1 Axes>"
      ]
     },
     "metadata": {},
     "output_type": "display_data"
    }
   ],
   "source": [
    "# plot recall\n",
    "# the percentage of positive predicitions that were correct (only bad words)\n",
    "plt.title('Recall')\n",
    "plt.plot(hist.history['recall_20'], 'r')\n",
    "plt.plot(hist.history['val_recall_20'], 'b')\n",
    "plt.legend([\"Recall\", \"Val_Recall\"])\n",
    "plt.show()"
   ]
  },
  {
   "cell_type": "code",
   "execution_count": 286,
   "id": "e500fc28-3c57-4ef9-8261-2344e4b23091",
   "metadata": {},
   "outputs": [
    {
     "name": "stdout",
     "output_type": "stream",
     "text": [
      "(16, 198, 32)\n",
      "1/1 [==============================] - 0s 143ms/step\n"
     ]
    }
   ],
   "source": [
    "# get one batch and make a prediction\n",
    "X_test, y_test = test.as_numpy_iterator().next()\n",
    "print(X_test.shape)\n",
    "yhat = model.predict(X_test)\n",
    "\n",
    "# Convert logits to classes\n",
    "y_pred = np.argmax(yhat, axis=1)\n",
    "y_pred\n",
    "\n",
    "# Convert true labels to class indices\n",
    "y_test_indices = np.argmax(y_test, axis=1)"
   ]
  },
  {
   "cell_type": "code",
   "execution_count": 287,
   "id": "e934f8d9-5c39-45c7-af62-b69672d195a9",
   "metadata": {},
   "outputs": [
    {
     "data": {
      "image/png": "[encoded data removed]",
      "text/plain": [
       "<Figure size 640x480 with 2 Axes>"
      ]
     },
     "metadata": {},
     "output_type": "display_data"
    }
   ],
   "source": [
    "from sklearn.metrics import confusion_matrix, ConfusionMatrixDisplay\n",
    "\n",
    "cm = confusion_matrix(y_test_indices, y_pred)\n",
    "\n",
    "# Use the class names as display labels\n",
    "class_names = ['non-bad', 'fuck', 'shit']\n",
    "disp = ConfusionMatrixDisplay(confusion_matrix=cm, display_labels=class_names)\n",
    "disp.plot()\n",
    "plt.show()"
   ]
  },
  {
   "cell_type": "code",
   "execution_count": 290,
   "id": "71570536-d7a8-4111-aa65-a27718beddb3",
   "metadata": {},
   "outputs": [],
   "source": [
    "model.save_weights(\"CNN_MEL_WORKING_CORRECT_SHAPE_V3.h5\")"
   ]
  },
  {
   "cell_type": "code",
   "execution_count": 292,
   "id": "1bec357d-b1f0-4108-9e84-af4c31893c71",
   "metadata": {},
   "outputs": [],
   "source": [
    "from keras.layers import Input\n",
    "from keras.models import Model\n",
    "\n",
    "# Load the saved weights\n",
    "weights_file = \"CNN_MEL_WORKING_CORRECT_SHAPE_V3.h5\"\n",
    "\n",
    "# Create a new model with a fixed input shape (1, 198, 32)\n",
    "fixed_input_shape = (1, 198, 32)\n",
    "fixed_input_tensor = Input(batch_shape=fixed_input_shape)\n",
    "\n",
    "# Create the fixed model using the Keras functional API\n",
    "x = Conv1D(32, 3, padding='same')(fixed_input_tensor)\n",
    "x = LayerNormalization()(x)\n",
    "x = Activation(\"relu\")(x)\n",
    "x = MaxPooling1D(pool_size=2)(x)\n",
    "\n",
    "for l in range(conv_layer - 1):\n",
    "    x = Conv1D(layer_size, 3, padding='same')(x)\n",
    "    x = LayerNormalization()(x)\n",
    "    x = Activation(\"relu\")(x)\n",
    "    if l < conv_layer - 2:\n",
    "        x = MaxPooling1D(pool_size=2)(x)\n",
    "\n",
    "x = Flatten()(x)\n",
    "for l in range(dense_layer):\n",
    "    x = Dense(dense_size)(x)\n",
    "    x = Activation(\"relu\")(x)\n",
    "\n",
    "# Output layer\n",
    "output = Dense(3, activation=\"softmax\")(x)\n",
    "\n",
    "# Create the fixed model\n",
    "fixed_model = Model(inputs=fixed_input_tensor, outputs=output)\n",
    "\n",
    "# Load the saved weights into the new model\n",
    "fixed_model.load_weights(weights_file)\n"
   ]
  },
  {
   "cell_type": "code",
   "execution_count": 293,
   "id": "cbacba43-4b3a-4ce9-be9d-094947f09752",
   "metadata": {},
   "outputs": [
    {
     "name": "stdout",
     "output_type": "stream",
     "text": [
      "Model: \"model\"\n",
      "_________________________________________________________________\n",
      " Layer (type)                Output Shape              Param #   \n",
      "=================================================================\n",
      " input_16 (InputLayer)       [(1, 198, 32)]            0         \n",
      "                                                                 \n",
      " conv1d_45 (Conv1D)          (1, 198, 32)              3104      \n",
      "                                                                 \n",
      " layer_normalization_96 (Lay  (1, 198, 32)             64        \n",
      " erNormalization)                                                \n",
      "                                                                 \n",
      " activation_117 (Activation)  (1, 198, 32)             0         \n",
      "                                                                 \n",
      " max_pooling1d_35 (MaxPoolin  (1, 99, 32)              0         \n",
      " g1D)                                                            \n",
      "                                                                 \n",
      " conv1d_46 (Conv1D)          (1, 99, 64)               6208      \n",
      "                                                                 \n",
      " layer_normalization_97 (Lay  (1, 99, 64)              128       \n",
      " erNormalization)                                                \n",
      "                                                                 \n",
      " activation_118 (Activation)  (1, 99, 64)              0         \n",
      "                                                                 \n",
      " max_pooling1d_36 (MaxPoolin  (1, 49, 64)              0         \n",
      " g1D)                                                            \n",
      "                                                                 \n",
      " conv1d_47 (Conv1D)          (1, 49, 64)               12352     \n",
      "                                                                 \n",
      " layer_normalization_98 (Lay  (1, 49, 64)              128       \n",
      " erNormalization)                                                \n",
      "                                                                 \n",
      " activation_119 (Activation)  (1, 49, 64)              0         \n",
      "                                                                 \n",
      " max_pooling1d_37 (MaxPoolin  (1, 24, 64)              0         \n",
      " g1D)                                                            \n",
      "                                                                 \n",
      " conv1d_48 (Conv1D)          (1, 24, 64)               12352     \n",
      "                                                                 \n",
      " layer_normalization_99 (Lay  (1, 24, 64)              128       \n",
      " erNormalization)                                                \n",
      "                                                                 \n",
      " activation_120 (Activation)  (1, 24, 64)              0         \n",
      "                                                                 \n",
      " flatten_22 (Flatten)        (1, 1536)                 0         \n",
      "                                                                 \n",
      " dense_22 (Dense)            (1, 3)                    4611      \n",
      "                                                                 \n",
      "=================================================================\n",
      "Total params: 39,075\n",
      "Trainable params: 39,075\n",
      "Non-trainable params: 0\n",
      "_________________________________________________________________\n"
     ]
    }
   ],
   "source": [
    "fixed_model.summary()"
   ]
  },
  {
   "cell_type": "code",
   "execution_count": 294,
   "id": "0a6cf6f9-cf31-40de-9dd6-52a210c01637",
   "metadata": {},
   "outputs": [
    {
     "name": "stdout",
     "output_type": "stream",
     "text": [
      "WARNING:tensorflow:Compiled the loaded model, but the compiled metrics have yet to be built. `model.compile_metrics` will be empty until you train or evaluate the model.\n"
     ]
    }
   ],
   "source": [
    "fixed_model.save(\"CNN_MEL_FIXED_SIZE.h5\")"
   ]
  },
  {
   "cell_type": "markdown",
   "id": "e7fce157",
   "metadata": {},
   "source": [
    "# Convert to TF Lite"
   ]
  },
  {
   "cell_type": "code",
   "execution_count": 295,
   "id": "7e0faa37",
   "metadata": {},
   "outputs": [
    {
     "name": "stdout",
     "output_type": "stream",
     "text": [
      "WARNING:tensorflow:No training configuration found in the save file, so the model was *not* compiled. Compile it manually.\n"
     ]
    },
    {
     "name": "stderr",
     "output_type": "stream",
     "text": [
      "WARNING:absl:Found untraced functions such as _jit_compiled_convolution_op, _jit_compiled_convolution_op, _jit_compiled_convolution_op, _jit_compiled_convolution_op while saving (showing 4 of 4). These functions will not be directly callable after loading.\n"
     ]
    },
    {
     "name": "stdout",
     "output_type": "stream",
     "text": [
      "INFO:tensorflow:Assets written to: C:\\Users\\jreye\\AppData\\Local\\Temp\\tmpdycsegq7\\assets\n"
     ]
    },
    {
     "name": "stderr",
     "output_type": "stream",
     "text": [
      "INFO:tensorflow:Assets written to: C:\\Users\\jreye\\AppData\\Local\\Temp\\tmpdycsegq7\\assets\n"
     ]
    }
   ],
   "source": [
    "# Load the saved .model\n",
    "new_model = tf.keras.models.load_model(\"CNN_MEL_FIXED_SIZE.h5\")\n",
    "\n",
    "# Convert the model to TensorFlow Lite\n",
    "converter = tf.lite.TFLiteConverter.from_keras_model(new_model)\n",
    "tflite_model = converter.convert()\n",
    "\n",
    "# Save the converted model to a .tflite file\n",
    "with open(\"your_model_name.tflite\", \"wb\") as f:\n",
    "    f.write(tflite_model)\n",
    "    \n",
    "def get_file_size(file_path):\n",
    "    size = os.path.getsize(file_path)\n",
    "    return size\n",
    "\n",
    "def convert_bytes(size, unit=None):\n",
    "    if unit == \"KB\":\n",
    "        return print('File Size: ' + str(round(size /1024, 3)) + ' Kilobytes')\n",
    "    elif unit == \"MB\":\n",
    "        return print('File Size: ' + str(round(size /(1024*1024), 3)) + ' Megabytes')\n",
    "    else:\n",
    "        return print('File Size: ' + str(size) + 'bytes')"
   ]
  },
  {
   "cell_type": "code",
   "execution_count": 296,
   "id": "380f9925",
   "metadata": {},
   "outputs": [
    {
     "name": "stdout",
     "output_type": "stream",
     "text": [
      "File Size: 0.167 Megabytes\n"
     ]
    }
   ],
   "source": [
    "# check input tensor shape\n",
    "convert_bytes(get_file_size(\"your_model_name.tflite\"), \"MB\")"
   ]
  },
  {
   "cell_type": "code",
   "execution_count": null,
   "id": "7c905e51-69ce-4623-88a9-99284d5693f2",
   "metadata": {},
   "outputs": [],
   "source": []
  }
 ],
 "metadata": {
  "kernelspec": {
   "display_name": "Python 3 (ipykernel)",
   "language": "python",
   "name": "python3"
  },
  "language_info": {
   "codemirror_mode": {
    "name": "ipython",
    "version": 3
   },
   "file_extension": ".py",
   "mimetype": "text/x-python",
   "name": "python",
   "nbconvert_exporter": "python",
   "pygments_lexer": "ipython3",
   "version": "3.10.10"
  }
 },
 "nbformat": 4,
 "nbformat_minor": 5
}
