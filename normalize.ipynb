{
 "cells": [
  {
   "cell_type": "code",
   "execution_count": 1,
   "metadata": {},
   "outputs": [],
   "source": [
    "# Place this file into the folder with the audios you want to compress\n",
    "\n",
    "import os\n",
    "import fnmatch\n",
    "from pydub import AudioSegment, effects"
   ]
  },
  {
   "cell_type": "code",
   "execution_count": 3,
   "metadata": {},
   "outputs": [],
   "source": [
    "for file in os.listdir('.'):\n",
    "    if fnmatch.fnmatch(file, '*.wav'):\n",
    "        rawsound = AudioSegment.from_file(file)\n",
    "        normalizedsound = effects.compress_dynamic_range(rawsound)\n",
    "        # Change the path to the folder you want the compressed audios to go into, make sure the file exists or there will be an error\n",
    "        # Don't place the new audios into the same folder as the originals or they will be overwritten\n",
    "        normalizedsound.export(os.path.join(\"C:/Users/David/Downloads/wolf of wall street/compressed_wolf\", file), format = \"wav\")"
   ]
  }
 ],
 "metadata": {
  "kernelspec": {
   "display_name": "base",
   "language": "python",
   "name": "python3"
  },
  "language_info": {
   "codemirror_mode": {
    "name": "ipython",
    "version": 3
   },
   "file_extension": ".py",
   "mimetype": "text/x-python",
   "name": "python",
   "nbconvert_exporter": "python",
   "pygments_lexer": "ipython3",
   "version": "3.10.6"
  },
  "orig_nbformat": 4,
  "vscode": {
   "interpreter": {
    "hash": "5a356e9517e14dc2ad259a2123438b15b3972e1e2b3dbfde245c14a47e88b3a8"
   }
  }
 },
 "nbformat": 4,
 "nbformat_minor": 2
}
